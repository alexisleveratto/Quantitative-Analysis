{
 "cells": [
  {
   "cell_type": "markdown",
   "metadata": {
    "colab_type": "text",
    "id": "HsyxWbMHnaC0"
   },
   "source": [
    "# Quantitative Analysis\n"
   ]
  },
  {
   "cell_type": "markdown",
   "metadata": {
    "colab_type": "text",
    "id": "f_BqLSUA-FS6"
   },
   "source": [
    "### Importing Packages"
   ]
  },
  {
   "cell_type": "code",
   "execution_count": null,
   "metadata": {
    "colab": {
     "base_uri": "https://localhost:8080/",
     "height": 68
    },
    "colab_type": "code",
    "id": "iJcrCWVmaJ36",
    "outputId": "65982430-1f71-40cd-f532-822f673afdcb"
   },
   "outputs": [
    {
     "name": "stderr",
     "output_type": "stream",
     "text": [
      "/usr/local/lib/python3.6/dist-packages/statsmodels/tools/_testing.py:19: FutureWarning: pandas.util.testing is deprecated. Use the functions in the public API at pandas.testing instead.\n",
      "  import pandas.util.testing as tm\n",
      "Using TensorFlow backend.\n"
     ]
    }
   ],
   "source": [
    "import datetime as dt\n",
    "import matplotlib.pyplot as plt\n",
    "from math import sqrt\n",
    "import numpy as np\n",
    "import pandas as pd\n",
    "from pandas import datetime, Series\n",
    "import seaborn as sns\n",
    "from sklearn.preprocessing import LabelEncoder, MinMaxScaler"
   ]
  },
  {
   "cell_type": "markdown",
   "metadata": {
    "colab_type": "text",
    "id": "zr5I0DAFA0aE"
   },
   "source": [
    "### Read Data"
   ]
  },
  {
   "cell_type": "code",
   "execution_count": null,
   "metadata": {
    "colab": {
     "base_uri": "https://localhost:8080/",
     "height": 221
    },
    "colab_type": "code",
    "id": "XqkFGugwA5_j",
    "outputId": "96439d47-5853-42f4-83be-32cd9a003de9"
   },
   "outputs": [
    {
     "name": "stdout",
     "output_type": "stream",
     "text": [
      "Data set shape: (468, 8)\n"
     ]
    },
    {
     "data": {
      "text/html": [
       "<div>\n",
       "<style scoped>\n",
       "    .dataframe tbody tr th:only-of-type {\n",
       "        vertical-align: middle;\n",
       "    }\n",
       "\n",
       "    .dataframe tbody tr th {\n",
       "        vertical-align: top;\n",
       "    }\n",
       "\n",
       "    .dataframe thead th {\n",
       "        text-align: right;\n",
       "    }\n",
       "</style>\n",
       "<table border=\"1\" class=\"dataframe\">\n",
       "  <thead>\n",
       "    <tr style=\"text-align: right;\">\n",
       "      <th></th>\n",
       "      <th>date</th>\n",
       "      <th>SP500</th>\n",
       "      <th>NASDAQ</th>\n",
       "      <th>LIBOR3M</th>\n",
       "      <th>VIX</th>\n",
       "      <th>CPI</th>\n",
       "      <th>HPI</th>\n",
       "      <th>CDS5Y</th>\n",
       "    </tr>\n",
       "  </thead>\n",
       "  <tbody>\n",
       "    <tr>\n",
       "      <th>0</th>\n",
       "      <td>198001</td>\n",
       "      <td>114.16</td>\n",
       "      <td>161.75</td>\n",
       "      <td>NaN</td>\n",
       "      <td>NaN</td>\n",
       "      <td>NaN</td>\n",
       "      <td>NaN</td>\n",
       "      <td>NaN</td>\n",
       "    </tr>\n",
       "    <tr>\n",
       "      <th>1</th>\n",
       "      <td>198002</td>\n",
       "      <td>113.66</td>\n",
       "      <td>158.03</td>\n",
       "      <td>NaN</td>\n",
       "      <td>NaN</td>\n",
       "      <td>NaN</td>\n",
       "      <td>NaN</td>\n",
       "      <td>NaN</td>\n",
       "    </tr>\n",
       "    <tr>\n",
       "      <th>2</th>\n",
       "      <td>198003</td>\n",
       "      <td>102.09</td>\n",
       "      <td>131.00</td>\n",
       "      <td>NaN</td>\n",
       "      <td>NaN</td>\n",
       "      <td>79.033333</td>\n",
       "      <td>NaN</td>\n",
       "      <td>NaN</td>\n",
       "    </tr>\n",
       "    <tr>\n",
       "      <th>3</th>\n",
       "      <td>198004</td>\n",
       "      <td>106.29</td>\n",
       "      <td>139.99</td>\n",
       "      <td>NaN</td>\n",
       "      <td>NaN</td>\n",
       "      <td>NaN</td>\n",
       "      <td>NaN</td>\n",
       "      <td>NaN</td>\n",
       "    </tr>\n",
       "    <tr>\n",
       "      <th>4</th>\n",
       "      <td>198005</td>\n",
       "      <td>111.24</td>\n",
       "      <td>150.45</td>\n",
       "      <td>NaN</td>\n",
       "      <td>NaN</td>\n",
       "      <td>NaN</td>\n",
       "      <td>NaN</td>\n",
       "      <td>NaN</td>\n",
       "    </tr>\n",
       "  </tbody>\n",
       "</table>\n",
       "</div>"
      ],
      "text/plain": [
       "     date   SP500  NASDAQ  LIBOR3M  VIX        CPI  HPI  CDS5Y\n",
       "0  198001  114.16  161.75      NaN  NaN        NaN  NaN    NaN\n",
       "1  198002  113.66  158.03      NaN  NaN        NaN  NaN    NaN\n",
       "2  198003  102.09  131.00      NaN  NaN  79.033333  NaN    NaN\n",
       "3  198004  106.29  139.99      NaN  NaN        NaN  NaN    NaN\n",
       "4  198005  111.24  150.45      NaN  NaN        NaN  NaN    NaN"
      ]
     },
     "execution_count": 4,
     "metadata": {
      "tags": []
     },
     "output_type": "execute_result"
    }
   ],
   "source": [
    "historical_data_df = pd.read_csv('data/HistoricalData.csv')\n",
    "print(\"Data set shape: \" + str(historical_data_df.shape))\n",
    "historical_data_df.head()"
   ]
  },
  {
   "cell_type": "markdown",
   "metadata": {
    "colab_type": "text",
    "id": "wo-NPvDrBA8-"
   },
   "source": [
    "We can see that the file HistoricalData.csv contains historical time series of different variables with start\n",
    "date of January 1980 and end date of December 2018. The US variables are two equity indices (index\n",
    "level points), VIX index (index level points), CPI (index level points), Libor rate (in %), HPI (index level\n",
    "points) and 5Y CDS (in %)."
   ]
  },
  {
   "cell_type": "markdown",
   "metadata": {
    "colab_type": "text",
    "id": "ewBe2qd5BPro"
   },
   "source": [
    "[VIX index](https://www.investopedia.com/terms/v/vix.asp): is a real-time market index that represents the market's expectation of 30-day forward-looking volatility. Derived from the price inputs of the S&P 500 index options, it provides a measure of market risk and investors' sentiments. It is also known by other names like \"Fear Gauge\" or \"Fear Index.\" Investors, research analysts and portfolio managers look to VIX values as a way to measure market risk, fear and stress before they take investment decisions.\n",
    "\n",
    "[CPI index](https://www.investopedia.com/articles/04/102004.asp):  The Consumer Price Index (CPI), the principal gauge of the prices of goods and services, indicates whether the economy is experiencing inflation, deflation or stagflation.\n",
    "\n",
    "[Libor Rate](https://www.investopedia.com/terms/l/libor.asp): The London Interbank Offered Rate (LIBOR) is a benchmark interest rate at which major global banks lend to one another in the international interbank market for short-term loans.\n",
    "\n",
    "[HPI](https://www.investopedia.com/terms/h/house-price-index-hpi.asp): The House Price Index (HPI) is a broad measure of the movement of single-family house prices in the United States. Aside from serving as an indicator of house price trends, it also functions as an analytical tool for estimating changes in the rates of mortgage defaults, prepayments, and housing affordability.\n",
    "\n",
    "[5Y CDS](https://www.investopedia.com/how-to-invest-with-cds-4795661): A CD can generally be described as a type of federally insured savings account. Whereas traditional savings accounts enable depositors to access their money whenever they want it (albeit only six times a month), CDs generally require investors to keep their money invested for a specific period of time in exchange for predetermined monthly interest payments."
   ]
  },
  {
   "cell_type": "markdown",
   "metadata": {
    "colab_type": "text",
    "id": "bnyMYPJk0bcC"
   },
   "source": [
    "### Exploratory Data Analysis\n",
    "\n",
    "Following some of the techniques and approches found in [this](https://github.com/advaitsave/Introduction-to-Time-Series-forecasting-Python/blob/master/Time%20Series%20in%20Python.ipynb) repo.\n",
    "\n"
   ]
  },
  {
   "cell_type": "code",
   "execution_count": null,
   "metadata": {
    "colab": {},
    "colab_type": "code",
    "id": "YB3X6oCb4Fe1"
   },
   "outputs": [],
   "source": [
    "# In case that I need I leave an untouche data frame with the data\n",
    "hist_data_ = historical_data_df.copy()"
   ]
  },
  {
   "cell_type": "markdown",
   "metadata": {
    "colab_type": "text",
    "id": "ZDm4_kQH1B_n"
   },
   "source": [
    "Convert data into timeseries dataset"
   ]
  },
  {
   "cell_type": "code",
   "execution_count": null,
   "metadata": {
    "colab": {},
    "colab_type": "code",
    "id": "pRGGlkmj5Qro"
   },
   "outputs": [],
   "source": [
    "def to_date(float_value):\n",
    "  return datetime.strptime(str(int(float_value)), '%Y%m').date()"
   ]
  },
  {
   "cell_type": "code",
   "execution_count": null,
   "metadata": {
    "colab": {
     "base_uri": "https://localhost:8080/",
     "height": 269
    },
    "colab_type": "code",
    "id": "912DiLGEHCF8",
    "outputId": "a128512f-0fd1-4bf6-cda6-bb440ec6b632"
   },
   "outputs": [
    {
     "name": "stderr",
     "output_type": "stream",
     "text": [
      "/usr/local/lib/python3.6/dist-packages/ipykernel_launcher.py:2: FutureWarning: The pandas.datetime class is deprecated and will be removed from pandas in a future version. Import from datetime instead.\n",
      "  \n"
     ]
    },
    {
     "data": {
      "text/html": [
       "<div>\n",
       "<style scoped>\n",
       "    .dataframe tbody tr th:only-of-type {\n",
       "        vertical-align: middle;\n",
       "    }\n",
       "\n",
       "    .dataframe tbody tr th {\n",
       "        vertical-align: top;\n",
       "    }\n",
       "\n",
       "    .dataframe thead th {\n",
       "        text-align: right;\n",
       "    }\n",
       "</style>\n",
       "<table border=\"1\" class=\"dataframe\">\n",
       "  <thead>\n",
       "    <tr style=\"text-align: right;\">\n",
       "      <th></th>\n",
       "      <th>SP500</th>\n",
       "      <th>NASDAQ</th>\n",
       "      <th>LIBOR3M</th>\n",
       "      <th>VIX</th>\n",
       "      <th>CPI</th>\n",
       "      <th>HPI</th>\n",
       "      <th>CDS5Y</th>\n",
       "    </tr>\n",
       "    <tr>\n",
       "      <th>date</th>\n",
       "      <th></th>\n",
       "      <th></th>\n",
       "      <th></th>\n",
       "      <th></th>\n",
       "      <th></th>\n",
       "      <th></th>\n",
       "      <th></th>\n",
       "    </tr>\n",
       "  </thead>\n",
       "  <tbody>\n",
       "    <tr>\n",
       "      <th>1980-01-01</th>\n",
       "      <td>114.16</td>\n",
       "      <td>161.75</td>\n",
       "      <td>NaN</td>\n",
       "      <td>NaN</td>\n",
       "      <td>NaN</td>\n",
       "      <td>NaN</td>\n",
       "      <td>NaN</td>\n",
       "    </tr>\n",
       "    <tr>\n",
       "      <th>1980-02-01</th>\n",
       "      <td>113.66</td>\n",
       "      <td>158.03</td>\n",
       "      <td>NaN</td>\n",
       "      <td>NaN</td>\n",
       "      <td>NaN</td>\n",
       "      <td>NaN</td>\n",
       "      <td>NaN</td>\n",
       "    </tr>\n",
       "    <tr>\n",
       "      <th>1980-03-01</th>\n",
       "      <td>102.09</td>\n",
       "      <td>131.00</td>\n",
       "      <td>NaN</td>\n",
       "      <td>NaN</td>\n",
       "      <td>79.033333</td>\n",
       "      <td>NaN</td>\n",
       "      <td>NaN</td>\n",
       "    </tr>\n",
       "    <tr>\n",
       "      <th>1980-04-01</th>\n",
       "      <td>106.29</td>\n",
       "      <td>139.99</td>\n",
       "      <td>NaN</td>\n",
       "      <td>NaN</td>\n",
       "      <td>NaN</td>\n",
       "      <td>NaN</td>\n",
       "      <td>NaN</td>\n",
       "    </tr>\n",
       "    <tr>\n",
       "      <th>1980-05-01</th>\n",
       "      <td>111.24</td>\n",
       "      <td>150.45</td>\n",
       "      <td>NaN</td>\n",
       "      <td>NaN</td>\n",
       "      <td>NaN</td>\n",
       "      <td>NaN</td>\n",
       "      <td>NaN</td>\n",
       "    </tr>\n",
       "  </tbody>\n",
       "</table>\n",
       "</div>"
      ],
      "text/plain": [
       "             SP500  NASDAQ  LIBOR3M  VIX        CPI  HPI  CDS5Y\n",
       "date                                                           \n",
       "1980-01-01  114.16  161.75      NaN  NaN        NaN  NaN    NaN\n",
       "1980-02-01  113.66  158.03      NaN  NaN        NaN  NaN    NaN\n",
       "1980-03-01  102.09  131.00      NaN  NaN  79.033333  NaN    NaN\n",
       "1980-04-01  106.29  139.99      NaN  NaN        NaN  NaN    NaN\n",
       "1980-05-01  111.24  150.45      NaN  NaN        NaN  NaN    NaN"
      ]
     },
     "execution_count": 7,
     "metadata": {
      "tags": []
     },
     "output_type": "execute_result"
    }
   ],
   "source": [
    "hist_data_['date'] = hist_data_['date'].apply(lambda x : to_date(x))\n",
    "hist_data_ = hist_data_.set_index('date')\n",
    "hist_data_.head()"
   ]
  },
  {
   "cell_type": "code",
   "execution_count": null,
   "metadata": {
    "colab": {
     "base_uri": "https://localhost:8080/",
     "height": 297
    },
    "colab_type": "code",
    "id": "64yTztwj9qKq",
    "outputId": "30b3e670-2410-4f77-e581-133badcedf8e"
   },
   "outputs": [
    {
     "data": {
      "text/html": [
       "<div>\n",
       "<style scoped>\n",
       "    .dataframe tbody tr th:only-of-type {\n",
       "        vertical-align: middle;\n",
       "    }\n",
       "\n",
       "    .dataframe tbody tr th {\n",
       "        vertical-align: top;\n",
       "    }\n",
       "\n",
       "    .dataframe thead th {\n",
       "        text-align: right;\n",
       "    }\n",
       "</style>\n",
       "<table border=\"1\" class=\"dataframe\">\n",
       "  <thead>\n",
       "    <tr style=\"text-align: right;\">\n",
       "      <th></th>\n",
       "      <th>SP500</th>\n",
       "      <th>NASDAQ</th>\n",
       "      <th>LIBOR3M</th>\n",
       "      <th>VIX</th>\n",
       "      <th>CPI</th>\n",
       "      <th>HPI</th>\n",
       "      <th>CDS5Y</th>\n",
       "    </tr>\n",
       "  </thead>\n",
       "  <tbody>\n",
       "    <tr>\n",
       "      <th>count</th>\n",
       "      <td>468.000000</td>\n",
       "      <td>468.000000</td>\n",
       "      <td>409.000000</td>\n",
       "      <td>348.000000</td>\n",
       "      <td>156.000000</td>\n",
       "      <td>334.000000</td>\n",
       "      <td>123.000000</td>\n",
       "    </tr>\n",
       "    <tr>\n",
       "      <th>mean</th>\n",
       "      <td>953.291538</td>\n",
       "      <td>1939.924502</td>\n",
       "      <td>3.919701</td>\n",
       "      <td>19.311810</td>\n",
       "      <td>169.157735</td>\n",
       "      <td>170.712629</td>\n",
       "      <td>23.037610</td>\n",
       "    </tr>\n",
       "    <tr>\n",
       "      <th>std</th>\n",
       "      <td>688.554387</td>\n",
       "      <td>1773.049247</td>\n",
       "      <td>2.814520</td>\n",
       "      <td>7.440128</td>\n",
       "      <td>49.828733</td>\n",
       "      <td>47.104755</td>\n",
       "      <td>12.428348</td>\n",
       "    </tr>\n",
       "    <tr>\n",
       "      <th>min</th>\n",
       "      <td>102.090000</td>\n",
       "      <td>131.000000</td>\n",
       "      <td>0.223350</td>\n",
       "      <td>9.510000</td>\n",
       "      <td>79.033333</td>\n",
       "      <td>100.000000</td>\n",
       "      <td>9.510000</td>\n",
       "    </tr>\n",
       "    <tr>\n",
       "      <th>25%</th>\n",
       "      <td>327.450000</td>\n",
       "      <td>429.425000</td>\n",
       "      <td>1.151880</td>\n",
       "      <td>13.655000</td>\n",
       "      <td>125.550000</td>\n",
       "      <td>120.992500</td>\n",
       "      <td>14.730000</td>\n",
       "    </tr>\n",
       "    <tr>\n",
       "      <th>50%</th>\n",
       "      <td>960.435000</td>\n",
       "      <td>1608.140000</td>\n",
       "      <td>4.000000</td>\n",
       "      <td>17.400000</td>\n",
       "      <td>166.583333</td>\n",
       "      <td>179.390000</td>\n",
       "      <td>19.650000</td>\n",
       "    </tr>\n",
       "    <tr>\n",
       "      <th>75%</th>\n",
       "      <td>1338.187500</td>\n",
       "      <td>2604.677500</td>\n",
       "      <td>6.000000</td>\n",
       "      <td>23.385000</td>\n",
       "      <td>215.392417</td>\n",
       "      <td>208.365000</td>\n",
       "      <td>29.176000</td>\n",
       "    </tr>\n",
       "    <tr>\n",
       "      <th>max</th>\n",
       "      <td>2913.980000</td>\n",
       "      <td>8109.537000</td>\n",
       "      <td>10.312500</td>\n",
       "      <td>59.890000</td>\n",
       "      <td>252.741363</td>\n",
       "      <td>265.709000</td>\n",
       "      <td>87.000000</td>\n",
       "    </tr>\n",
       "  </tbody>\n",
       "</table>\n",
       "</div>"
      ],
      "text/plain": [
       "             SP500       NASDAQ     LIBOR3M  ...         CPI         HPI       CDS5Y\n",
       "count   468.000000   468.000000  409.000000  ...  156.000000  334.000000  123.000000\n",
       "mean    953.291538  1939.924502    3.919701  ...  169.157735  170.712629   23.037610\n",
       "std     688.554387  1773.049247    2.814520  ...   49.828733   47.104755   12.428348\n",
       "min     102.090000   131.000000    0.223350  ...   79.033333  100.000000    9.510000\n",
       "25%     327.450000   429.425000    1.151880  ...  125.550000  120.992500   14.730000\n",
       "50%     960.435000  1608.140000    4.000000  ...  166.583333  179.390000   19.650000\n",
       "75%    1338.187500  2604.677500    6.000000  ...  215.392417  208.365000   29.176000\n",
       "max    2913.980000  8109.537000   10.312500  ...  252.741363  265.709000   87.000000\n",
       "\n",
       "[8 rows x 7 columns]"
      ]
     },
     "execution_count": 8,
     "metadata": {
      "tags": []
     },
     "output_type": "execute_result"
    }
   ],
   "source": [
    "hist_data_.describe()"
   ]
  },
  {
   "cell_type": "code",
   "execution_count": null,
   "metadata": {
    "colab": {
     "base_uri": "https://localhost:8080/",
     "height": 296
    },
    "colab_type": "code",
    "id": "vvTXSMJa-z-u",
    "outputId": "1a68c022-a54e-4a88-a61f-bf0f6fc591dd"
   },
   "outputs": [
    {
     "data": {
      "text/plain": [
       "<matplotlib.axes._subplots.AxesSubplot at 0x7f45869498d0>"
      ]
     },
     "execution_count": 9,
     "metadata": {
      "tags": []
     },
     "output_type": "execute_result"
    },
    {
     "data": {
      "image/png": "[encoded data removed]",
      "text/plain": [
       "<Figure size 432x288 with 1 Axes>"
      ]
     },
     "metadata": {
      "needs_background": "light",
      "tags": []
     },
     "output_type": "display_data"
    }
   ],
   "source": [
    "value_predict = 'VIX'\n",
    "hist_data_[value_predict].plot()"
   ]
  },
  {
   "cell_type": "code",
   "execution_count": null,
   "metadata": {
    "colab": {
     "base_uri": "https://localhost:8080/",
     "height": 607
    },
    "colab_type": "code",
    "id": "kej8DicaDmxU",
    "outputId": "d0c5e8d3-0902-4bb6-eb32-37003eb870bf"
   },
   "outputs": [
    {
     "data": {
      "image/png": "[encoded data removed]",
      "text/plain": [
       "<Figure size 720x720 with 2 Axes>"
      ]
     },
     "metadata": {
      "needs_background": "light",
      "tags": []
     },
     "output_type": "display_data"
    }
   ],
   "source": [
    "plt.figure(figsize=(10,10))\n",
    "plt.subplot(2,1,1)\n",
    "plt.title(value_predict)\n",
    "hist_data_[value_predict].hist()\n",
    "plt.subplot(2,1,2)\n",
    "hist_data_[value_predict].plot(kind='kde')\n",
    "\n",
    "plt.show()"
   ]
  },
  {
   "cell_type": "markdown",
   "metadata": {
    "colab_type": "text",
    "id": "vCZ5Gj9UMgBl"
   },
   "source": [
    "**Stationarity**\n",
    "\n",
    "* A Time Series is said to be stationary if its statistical properties such as mean, variance remain constant over time.\n",
    "* Most of the Time Series models work on the assumption that the TS is stationary. Major reason for this is that there are many ways in which a series can be non-stationary, but only one way for stationarity.\n",
    "* Intuitively, we can say that if a Time Series has a particular behaviour over time, there is a very high probability that it will follow the same in the future.\n",
    "* Also, the theories related to stationary series are more mature and easier to implement as compared to non-stationary series.\n",
    "\n",
    "We can test stationary using the following approches:\n",
    "1. **ACF and PACF plots:** If the time series is stationary, the ACF/PACF plots will show a quick drop-off in correlation after a small amount of lag between points.\n",
    "2. **Plotting Rolling Statistics:** We can plot the moving average or moving variance and see if it varies with time. Moving average/variance is for any instant ‘t’, the average/variance of the last year, i.e. last 12 months.\n",
    "3. **Augmented Dickey-Fuller Test:** This is one of the statistical tests for checking stationarity. Here the null hypothesis is that the TS is non-stationary. The test results comprise of a Test Statistic and some Critical Values for difference confidence levels. If the ‘Test Statistic’ is less than the ‘Critical Value’, we can reject the null hypothesis and say that the series is stationary. Refer this article for details."
   ]
  },
  {
   "cell_type": "markdown",
   "metadata": {
    "colab_type": "text",
    "id": "FuH2qd_Z7ysI"
   },
   "source": [
    "**Autocorrelation**\n",
    "\n",
    "An autoregression model makes an assumption that the observations at previous time steps are useful to predict the value at the next time step.\n",
    "\n",
    "This relationship between variables is called correlation.\n",
    "\n",
    "If both variables change in the same direction (e.g. go up together or down together), this is called a positive correlation. If the variables move in opposite directions as values change (e.g. one goes up and one goes down), then this is called negative correlation.\n",
    "\n",
    "Because the correlation is calculated between the variable and itself at previous time steps, it is called an autocorrelation. \n",
    "\n",
    "\n",
    "*Quick Check for Autocorrelation*\n",
    "\n",
    "There is a quick, visual check that we can do to see if there is an autocorrelation in our time series dataset.\n",
    "\n",
    "We can plot the observation at the previous time step $t-1$ with the observation at the next time step $t+1$ as a scatter plot.\n",
    "\n"
   ]
  },
  {
   "cell_type": "code",
   "execution_count": null,
   "metadata": {
    "colab": {
     "base_uri": "https://localhost:8080/",
     "height": 279
    },
    "colab_type": "code",
    "id": "ThyaLVaUzNI4",
    "outputId": "999be596-44e8-43d5-adbe-479891b4ddef"
   },
   "outputs": [
    {
     "data": {
      "image/png": "[encoded data removed]",
      "text/plain": [
       "<Figure size 432x288 with 1 Axes>"
      ]
     },
     "metadata": {
      "needs_background": "light",
      "tags": []
     },
     "output_type": "display_data"
    }
   ],
   "source": [
    "from pandas.plotting import lag_plot\n",
    "lag_plot(hist_data_[value_predict])\n",
    "plt.show()"
   ]
  },
  {
   "cell_type": "markdown",
   "metadata": {
    "colab_type": "text",
    "id": "I7mHUNNd1w00"
   },
   "source": [
    "*Autocorrelation Plots*\n",
    "\n",
    "We can plot the correlation coefficient for each lag variable.\n",
    "\n",
    "This can very quickly give an idea of which lag variables may be good candidates for use in a predictive model and how the relationship between the observation and its historic values changes over time.\n",
    "\n",
    "The plot provides the lag number along the x-axis and the correlation coefficient value between -1 and 1 on the y-axis. The plot also includes solid and dashed lines that indicate the 95% and 99% confidence interval for the correlation values. Correlation values above these lines are more significant than those below the line, providing a threshold or cutoff for selecting more relevant lag values.\n"
   ]
  },
  {
   "cell_type": "code",
   "execution_count": null,
   "metadata": {
    "colab": {},
    "colab_type": "code",
    "id": "6CAEUdwj1_2y"
   },
   "outputs": [],
   "source": [
    "from pandas.plotting import autocorrelation_plot"
   ]
  },
  {
   "cell_type": "code",
   "execution_count": null,
   "metadata": {
    "colab": {
     "base_uri": "https://localhost:8080/",
     "height": 283
    },
    "colab_type": "code",
    "id": "Q9y-J2mh18FI",
    "outputId": "c75e6663-c760-475f-c0d5-1968277463d7"
   },
   "outputs": [
    {
     "data": {
      "image/png": "[encoded data removed]",
      "text/plain": [
       "<Figure size 432x288 with 1 Axes>"
      ]
     },
     "metadata": {
      "needs_background": "light",
      "tags": []
     },
     "output_type": "display_data"
    }
   ],
   "source": [
    "autocorrelation_plot(hist_data_[value_predict])\n",
    "plt.show()"
   ]
  },
  {
   "cell_type": "markdown",
   "metadata": {
    "colab_type": "text",
    "id": "QE0oCCbazIrt"
   },
   "source": [
    "*ACF and PACF plots*\n",
    "\n",
    "\n",
    "\n",
    "Let's review the AutoCorrelation Function (ACF) and the Partial AutoCorrelation Function (PACF) plots. If the time series is stationary, the ACF/PACF plots will show a quick drop-off in correlation after a small amount of lag between points\n",
    "\n",
    "\n"
   ]
  },
  {
   "cell_type": "code",
   "execution_count": null,
   "metadata": {
    "colab": {
     "base_uri": "https://localhost:8080/",
     "height": 607
    },
    "colab_type": "code",
    "id": "VJLVj7TSM10z",
    "outputId": "f8a7b5a5-f9f5-427e-8baf-1d1205e9b714"
   },
   "outputs": [
    {
     "data": {
      "image/png": "[encoded data removed]",
      "text/plain": [
       "<Figure size 720x720 with 2 Axes>"
      ]
     },
     "metadata": {
      "needs_background": "light",
      "tags": []
     },
     "output_type": "display_data"
    }
   ],
   "source": [
    "from statsmodels.graphics.tsaplots import plot_acf, plot_pacf\n",
    "\n",
    "plt.figure(figsize=(10,10))\n",
    "plt.subplot(2,1,1)\n",
    "plot_acf(hist_data_[value_predict], ax=plt.gca(), lags=31)\n",
    "plt.subplot(2,1,2)\n",
    "plot_pacf(hist_data_[value_predict], ax=plt.gca(), lags=31)\n",
    "plt.show()"
   ]
  },
  {
   "cell_type": "markdown",
   "metadata": {
    "colab_type": "text",
    "id": "5NLwXhaY_Gui"
   },
   "source": [
    "*Plotting Rolling Statistics:* we can see that the rolling mean and std are not constant with respect of time. Hence the time series is not stationary"
   ]
  },
  {
   "cell_type": "code",
   "execution_count": null,
   "metadata": {
    "colab": {
     "base_uri": "https://localhost:8080/",
     "height": 607
    },
    "colab_type": "code",
    "id": "jDvMdOMa_dpz",
    "outputId": "cc41404d-e785-43b5-e00e-5c43c3bff1ec"
   },
   "outputs": [
    {
     "data": {
      "image/png": "[encoded data removed]",
      "text/plain": [
       "<Figure size 720x720 with 1 Axes>"
      ]
     },
     "metadata": {
      "needs_background": "light",
      "tags": []
     },
     "output_type": "display_data"
    }
   ],
   "source": [
    "k = 3\n",
    "rolmean = hist_data_[value_predict].rolling(k).mean()\n",
    "rolstd = hist_data_[value_predict].rolling(k).std()\n",
    "\n",
    "plt.figure(figsize=(10,10))\n",
    "orig = plt.plot(hist_data_[value_predict], color='blue', label='Original')\n",
    "mean = plt.plot(rolmean, color='red', label='Rolling Mean')\n",
    "std = plt.plot(rolstd, color='green', label=\"Rolling Std\")\n",
    "plt.legend(loc='best')\n",
    "plt.title('Rolling Mean & Standard Deviation')\n",
    "plt.show(block=False)"
   ]
  },
  {
   "cell_type": "code",
   "execution_count": null,
   "metadata": {
    "colab": {},
    "colab_type": "code",
    "id": "LS1SbVMLHlS7"
   },
   "outputs": [],
   "source": [
    "def test_stationarity(timeseries, k=12):\n",
    "    #Determing rolling statistics\n",
    "    rolmean = timeseries.rolling(k).mean()\n",
    "    rolstd = timeseries.rolling(k).std()\n",
    "\n",
    "    #Plot rolling statistics:\n",
    "    plt.figure(figsize=(10,10))\n",
    "    orig = plt.plot(timeseries, color='blue',label='Original')\n",
    "    mean = plt.plot(rolmean, color='red', label='Rolling Mean')\n",
    "    std = plt.plot(rolstd, color='green', label = 'Rolling Std')\n",
    "    plt.legend(loc='best')\n",
    "    plt.title('Rolling Mean & Standard Deviation')\n",
    "    plt.show(block=False)"
   ]
  },
  {
   "cell_type": "markdown",
   "metadata": {
    "colab_type": "text",
    "id": "Oa86EZVV8cqZ"
   },
   "source": [
    "### Time Series Forecasting"
   ]
  },
  {
   "cell_type": "markdown",
   "metadata": {
    "colab_type": "text",
    "id": "3aENiGJXDIyy"
   },
   "source": [
    "#### Multivariate  Long Short-Term Memory (LSTM)\n",
    "The LSTM network, is a recurrent neural network that is trained using Backpropagation Throug time and overcomes the vanishing gradient problem.\n",
    "\n",
    "As such, it can be used to create large recurrent networks that in turn can be used to address difficult sequence problem in machine learning.\n",
    "\n",
    "Instead of neurons, LSTM networks have memory blocks that are connected through layers.\n",
    "\n",
    "A block has components that make it smarter than a classical neuron and a memory for recent sequences. A block contains gates that manage the block’s state and output. A block operates upon an input sequence and each gate within a block uses the sigmoid activation units to control whether they are triggered or not, making the change of state and addition of information flowing through the block conditional.\n",
    "\n",
    "There are three types of gates within a unit:\n",
    "\n",
    "* Forget Gate: conditionally decides what information to throw away from the block.\n",
    "* Input Gate: conditionally decides which values from the input to update the memory state.\n",
    "* Output Gate: conditionally decides what to output based on input and the memory of the block.\n",
    "\n",
    "Each unit is like a mini-state machine where the gates of the units have weights that are learned during the training procedure."
   ]
  },
  {
   "cell_type": "code",
   "execution_count": null,
   "metadata": {
    "colab": {
     "base_uri": "https://localhost:8080/",
     "height": 187
    },
    "colab_type": "code",
    "id": "D6iuvCa1LLrH",
    "outputId": "047c2393-fffb-446d-f4e9-b16bedf3b687"
   },
   "outputs": [
    {
     "data": {
      "text/html": [
       "<style  type=\"text/css\" >\n",
       "    #T_015b6f6a_7f40_11ea_8bdf_0242ac1c0002row0_col0 {\n",
       "            background-color:  #b40426;\n",
       "            color:  #f1f1f1;\n",
       "        }    #T_015b6f6a_7f40_11ea_8bdf_0242ac1c0002row0_col1 {\n",
       "            background-color:  #b8122a;\n",
       "            color:  #f1f1f1;\n",
       "        }    #T_015b6f6a_7f40_11ea_8bdf_0242ac1c0002row0_col2 {\n",
       "            background-color:  #5977e3;\n",
       "            color:  #000000;\n",
       "        }    #T_015b6f6a_7f40_11ea_8bdf_0242ac1c0002row0_col3 {\n",
       "            background-color:  #3f53c6;\n",
       "            color:  #f1f1f1;\n",
       "        }    #T_015b6f6a_7f40_11ea_8bdf_0242ac1c0002row0_col4 {\n",
       "            background-color:  #c43032;\n",
       "            color:  #f1f1f1;\n",
       "        }    #T_015b6f6a_7f40_11ea_8bdf_0242ac1c0002row0_col5 {\n",
       "            background-color:  #d65244;\n",
       "            color:  #000000;\n",
       "        }    #T_015b6f6a_7f40_11ea_8bdf_0242ac1c0002row0_col6 {\n",
       "            background-color:  #3f53c6;\n",
       "            color:  #f1f1f1;\n",
       "        }    #T_015b6f6a_7f40_11ea_8bdf_0242ac1c0002row1_col0 {\n",
       "            background-color:  #b8122a;\n",
       "            color:  #f1f1f1;\n",
       "        }    #T_015b6f6a_7f40_11ea_8bdf_0242ac1c0002row1_col1 {\n",
       "            background-color:  #b40426;\n",
       "            color:  #f1f1f1;\n",
       "        }    #T_015b6f6a_7f40_11ea_8bdf_0242ac1c0002row1_col2 {\n",
       "            background-color:  #6384eb;\n",
       "            color:  #000000;\n",
       "        }    #T_015b6f6a_7f40_11ea_8bdf_0242ac1c0002row1_col3 {\n",
       "            background-color:  #3b4cc0;\n",
       "            color:  #f1f1f1;\n",
       "        }    #T_015b6f6a_7f40_11ea_8bdf_0242ac1c0002row1_col4 {\n",
       "            background-color:  #d0473d;\n",
       "            color:  #f1f1f1;\n",
       "        }    #T_015b6f6a_7f40_11ea_8bdf_0242ac1c0002row1_col5 {\n",
       "            background-color:  #e36b54;\n",
       "            color:  #000000;\n",
       "        }    #T_015b6f6a_7f40_11ea_8bdf_0242ac1c0002row1_col6 {\n",
       "            background-color:  #445acc;\n",
       "            color:  #f1f1f1;\n",
       "        }    #T_015b6f6a_7f40_11ea_8bdf_0242ac1c0002row2_col0 {\n",
       "            background-color:  #445acc;\n",
       "            color:  #f1f1f1;\n",
       "        }    #T_015b6f6a_7f40_11ea_8bdf_0242ac1c0002row2_col1 {\n",
       "            background-color:  #4961d2;\n",
       "            color:  #f1f1f1;\n",
       "        }    #T_015b6f6a_7f40_11ea_8bdf_0242ac1c0002row2_col2 {\n",
       "            background-color:  #b40426;\n",
       "            color:  #f1f1f1;\n",
       "        }    #T_015b6f6a_7f40_11ea_8bdf_0242ac1c0002row2_col3 {\n",
       "            background-color:  #6f92f3;\n",
       "            color:  #000000;\n",
       "        }    #T_015b6f6a_7f40_11ea_8bdf_0242ac1c0002row2_col4 {\n",
       "            background-color:  #3b4cc0;\n",
       "            color:  #f1f1f1;\n",
       "        }    #T_015b6f6a_7f40_11ea_8bdf_0242ac1c0002row2_col5 {\n",
       "            background-color:  #3b4cc0;\n",
       "            color:  #f1f1f1;\n",
       "        }    #T_015b6f6a_7f40_11ea_8bdf_0242ac1c0002row2_col6 {\n",
       "            background-color:  #b6cefa;\n",
       "            color:  #000000;\n",
       "        }    #T_015b6f6a_7f40_11ea_8bdf_0242ac1c0002row3_col0 {\n",
       "            background-color:  #a5c3fe;\n",
       "            color:  #000000;\n",
       "        }    #T_015b6f6a_7f40_11ea_8bdf_0242ac1c0002row3_col1 {\n",
       "            background-color:  #9dbdff;\n",
       "            color:  #000000;\n",
       "        }    #T_015b6f6a_7f40_11ea_8bdf_0242ac1c0002row3_col2 {\n",
       "            background-color:  #d3dbe7;\n",
       "            color:  #000000;\n",
       "        }    #T_015b6f6a_7f40_11ea_8bdf_0242ac1c0002row3_col3 {\n",
       "            background-color:  #b40426;\n",
       "            color:  #f1f1f1;\n",
       "        }    #T_015b6f6a_7f40_11ea_8bdf_0242ac1c0002row3_col4 {\n",
       "            background-color:  #ccd9ed;\n",
       "            color:  #000000;\n",
       "        }    #T_015b6f6a_7f40_11ea_8bdf_0242ac1c0002row3_col5 {\n",
       "            background-color:  #a5c3fe;\n",
       "            color:  #000000;\n",
       "        }    #T_015b6f6a_7f40_11ea_8bdf_0242ac1c0002row3_col6 {\n",
       "            background-color:  #ed8366;\n",
       "            color:  #000000;\n",
       "        }    #T_015b6f6a_7f40_11ea_8bdf_0242ac1c0002row4_col0 {\n",
       "            background-color:  #c53334;\n",
       "            color:  #f1f1f1;\n",
       "        }    #T_015b6f6a_7f40_11ea_8bdf_0242ac1c0002row4_col1 {\n",
       "            background-color:  #d1493f;\n",
       "            color:  #f1f1f1;\n",
       "        }    #T_015b6f6a_7f40_11ea_8bdf_0242ac1c0002row4_col2 {\n",
       "            background-color:  #3b4cc0;\n",
       "            color:  #f1f1f1;\n",
       "        }    #T_015b6f6a_7f40_11ea_8bdf_0242ac1c0002row4_col3 {\n",
       "            background-color:  #6384eb;\n",
       "            color:  #000000;\n",
       "        }    #T_015b6f6a_7f40_11ea_8bdf_0242ac1c0002row4_col4 {\n",
       "            background-color:  #b40426;\n",
       "            color:  #f1f1f1;\n",
       "        }    #T_015b6f6a_7f40_11ea_8bdf_0242ac1c0002row4_col5 {\n",
       "            background-color:  #c53334;\n",
       "            color:  #f1f1f1;\n",
       "        }    #T_015b6f6a_7f40_11ea_8bdf_0242ac1c0002row4_col6 {\n",
       "            background-color:  #3b4cc0;\n",
       "            color:  #f1f1f1;\n",
       "        }    #T_015b6f6a_7f40_11ea_8bdf_0242ac1c0002row5_col0 {\n",
       "            background-color:  #d44e41;\n",
       "            color:  #000000;\n",
       "        }    #T_015b6f6a_7f40_11ea_8bdf_0242ac1c0002row5_col1 {\n",
       "            background-color:  #e0654f;\n",
       "            color:  #000000;\n",
       "        }    #T_015b6f6a_7f40_11ea_8bdf_0242ac1c0002row5_col2 {\n",
       "            background-color:  #688aef;\n",
       "            color:  #000000;\n",
       "        }    #T_015b6f6a_7f40_11ea_8bdf_0242ac1c0002row5_col3 {\n",
       "            background-color:  #5875e1;\n",
       "            color:  #000000;\n",
       "        }    #T_015b6f6a_7f40_11ea_8bdf_0242ac1c0002row5_col4 {\n",
       "            background-color:  #c32e31;\n",
       "            color:  #f1f1f1;\n",
       "        }    #T_015b6f6a_7f40_11ea_8bdf_0242ac1c0002row5_col5 {\n",
       "            background-color:  #b40426;\n",
       "            color:  #f1f1f1;\n",
       "        }    #T_015b6f6a_7f40_11ea_8bdf_0242ac1c0002row5_col6 {\n",
       "            background-color:  #5b7ae5;\n",
       "            color:  #000000;\n",
       "        }    #T_015b6f6a_7f40_11ea_8bdf_0242ac1c0002row6_col0 {\n",
       "            background-color:  #3b4cc0;\n",
       "            color:  #f1f1f1;\n",
       "        }    #T_015b6f6a_7f40_11ea_8bdf_0242ac1c0002row6_col1 {\n",
       "            background-color:  #3b4cc0;\n",
       "            color:  #f1f1f1;\n",
       "        }    #T_015b6f6a_7f40_11ea_8bdf_0242ac1c0002row6_col2 {\n",
       "            background-color:  #c1d4f4;\n",
       "            color:  #000000;\n",
       "        }    #T_015b6f6a_7f40_11ea_8bdf_0242ac1c0002row6_col3 {\n",
       "            background-color:  #f7a889;\n",
       "            color:  #000000;\n",
       "        }    #T_015b6f6a_7f40_11ea_8bdf_0242ac1c0002row6_col4 {\n",
       "            background-color:  #4b64d5;\n",
       "            color:  #f1f1f1;\n",
       "        }    #T_015b6f6a_7f40_11ea_8bdf_0242ac1c0002row6_col5 {\n",
       "            background-color:  #3e51c5;\n",
       "            color:  #f1f1f1;\n",
       "        }    #T_015b6f6a_7f40_11ea_8bdf_0242ac1c0002row6_col6 {\n",
       "            background-color:  #b40426;\n",
       "            color:  #f1f1f1;\n",
       "        }</style><table id=\"T_015b6f6a_7f40_11ea_8bdf_0242ac1c0002\" ><thead>    <tr>        <th class=\"blank level0\" ></th>        <th class=\"col_heading level0 col0\" >SP500</th>        <th class=\"col_heading level0 col1\" >NASDAQ</th>        <th class=\"col_heading level0 col2\" >LIBOR3M</th>        <th class=\"col_heading level0 col3\" >VIX</th>        <th class=\"col_heading level0 col4\" >CPI</th>        <th class=\"col_heading level0 col5\" >HPI</th>        <th class=\"col_heading level0 col6\" >CDS5Y</th>    </tr></thead><tbody>\n",
       "                <tr>\n",
       "                        <th id=\"T_015b6f6a_7f40_11ea_8bdf_0242ac1c0002level0_row0\" class=\"row_heading level0 row0\" >SP500</th>\n",
       "                        <td id=\"T_015b6f6a_7f40_11ea_8bdf_0242ac1c0002row0_col0\" class=\"data row0 col0\" >1.000000</td>\n",
       "                        <td id=\"T_015b6f6a_7f40_11ea_8bdf_0242ac1c0002row0_col1\" class=\"data row0 col1\" >0.977904</td>\n",
       "                        <td id=\"T_015b6f6a_7f40_11ea_8bdf_0242ac1c0002row0_col2\" class=\"data row0 col2\" >-0.651933</td>\n",
       "                        <td id=\"T_015b6f6a_7f40_11ea_8bdf_0242ac1c0002row0_col3\" class=\"data row0 col3\" >-0.166653</td>\n",
       "                        <td id=\"T_015b6f6a_7f40_11ea_8bdf_0242ac1c0002row0_col4\" class=\"data row0 col4\" >0.919149</td>\n",
       "                        <td id=\"T_015b6f6a_7f40_11ea_8bdf_0242ac1c0002row0_col5\" class=\"data row0 col5\" >0.841572</td>\n",
       "                        <td id=\"T_015b6f6a_7f40_11ea_8bdf_0242ac1c0002row0_col6\" class=\"data row0 col6\" >-0.706834</td>\n",
       "            </tr>\n",
       "            <tr>\n",
       "                        <th id=\"T_015b6f6a_7f40_11ea_8bdf_0242ac1c0002level0_row1\" class=\"row_heading level0 row1\" >NASDAQ</th>\n",
       "                        <td id=\"T_015b6f6a_7f40_11ea_8bdf_0242ac1c0002row1_col0\" class=\"data row1 col0\" >0.977904</td>\n",
       "                        <td id=\"T_015b6f6a_7f40_11ea_8bdf_0242ac1c0002row1_col1\" class=\"data row1 col1\" >1.000000</td>\n",
       "                        <td id=\"T_015b6f6a_7f40_11ea_8bdf_0242ac1c0002row1_col2\" class=\"data row1 col2\" >-0.595061</td>\n",
       "                        <td id=\"T_015b6f6a_7f40_11ea_8bdf_0242ac1c0002row1_col3\" class=\"data row1 col3\" >-0.186578</td>\n",
       "                        <td id=\"T_015b6f6a_7f40_11ea_8bdf_0242ac1c0002row1_col4\" class=\"data row1 col4\" >0.856020</td>\n",
       "                        <td id=\"T_015b6f6a_7f40_11ea_8bdf_0242ac1c0002row1_col5\" class=\"data row1 col5\" >0.771001</td>\n",
       "                        <td id=\"T_015b6f6a_7f40_11ea_8bdf_0242ac1c0002row1_col6\" class=\"data row1 col6\" >-0.680078</td>\n",
       "            </tr>\n",
       "            <tr>\n",
       "                        <th id=\"T_015b6f6a_7f40_11ea_8bdf_0242ac1c0002level0_row2\" class=\"row_heading level0 row2\" >LIBOR3M</th>\n",
       "                        <td id=\"T_015b6f6a_7f40_11ea_8bdf_0242ac1c0002row2_col0\" class=\"data row2 col0\" >-0.651933</td>\n",
       "                        <td id=\"T_015b6f6a_7f40_11ea_8bdf_0242ac1c0002row2_col1\" class=\"data row2 col1\" >-0.595061</td>\n",
       "                        <td id=\"T_015b6f6a_7f40_11ea_8bdf_0242ac1c0002row2_col2\" class=\"data row2 col2\" >1.000000</td>\n",
       "                        <td id=\"T_015b6f6a_7f40_11ea_8bdf_0242ac1c0002row2_col3\" class=\"data row2 col3\" >0.010810</td>\n",
       "                        <td id=\"T_015b6f6a_7f40_11ea_8bdf_0242ac1c0002row2_col4\" class=\"data row2 col4\" >-0.837270</td>\n",
       "                        <td id=\"T_015b6f6a_7f40_11ea_8bdf_0242ac1c0002row2_col5\" class=\"data row2 col5\" >-0.569874</td>\n",
       "                        <td id=\"T_015b6f6a_7f40_11ea_8bdf_0242ac1c0002row2_col6\" class=\"data row2 col6\" >-0.094637</td>\n",
       "            </tr>\n",
       "            <tr>\n",
       "                        <th id=\"T_015b6f6a_7f40_11ea_8bdf_0242ac1c0002level0_row3\" class=\"row_heading level0 row3\" >VIX</th>\n",
       "                        <td id=\"T_015b6f6a_7f40_11ea_8bdf_0242ac1c0002row3_col0\" class=\"data row3 col0\" >-0.166653</td>\n",
       "                        <td id=\"T_015b6f6a_7f40_11ea_8bdf_0242ac1c0002row3_col1\" class=\"data row3 col1\" >-0.186578</td>\n",
       "                        <td id=\"T_015b6f6a_7f40_11ea_8bdf_0242ac1c0002row3_col2\" class=\"data row3 col2\" >0.010810</td>\n",
       "                        <td id=\"T_015b6f6a_7f40_11ea_8bdf_0242ac1c0002row3_col3\" class=\"data row3 col3\" >1.000000</td>\n",
       "                        <td id=\"T_015b6f6a_7f40_11ea_8bdf_0242ac1c0002row3_col4\" class=\"data row3 col4\" >-0.029231</td>\n",
       "                        <td id=\"T_015b6f6a_7f40_11ea_8bdf_0242ac1c0002row3_col5\" class=\"data row3 col5\" >-0.073045</td>\n",
       "                        <td id=\"T_015b6f6a_7f40_11ea_8bdf_0242ac1c0002row3_col6\" class=\"data row3 col6\" >0.657414</td>\n",
       "            </tr>\n",
       "            <tr>\n",
       "                        <th id=\"T_015b6f6a_7f40_11ea_8bdf_0242ac1c0002level0_row4\" class=\"row_heading level0 row4\" >CPI</th>\n",
       "                        <td id=\"T_015b6f6a_7f40_11ea_8bdf_0242ac1c0002row4_col0\" class=\"data row4 col0\" >0.919149</td>\n",
       "                        <td id=\"T_015b6f6a_7f40_11ea_8bdf_0242ac1c0002row4_col1\" class=\"data row4 col1\" >0.856020</td>\n",
       "                        <td id=\"T_015b6f6a_7f40_11ea_8bdf_0242ac1c0002row4_col2\" class=\"data row4 col2\" >-0.837270</td>\n",
       "                        <td id=\"T_015b6f6a_7f40_11ea_8bdf_0242ac1c0002row4_col3\" class=\"data row4 col3\" >-0.029231</td>\n",
       "                        <td id=\"T_015b6f6a_7f40_11ea_8bdf_0242ac1c0002row4_col4\" class=\"data row4 col4\" >1.000000</td>\n",
       "                        <td id=\"T_015b6f6a_7f40_11ea_8bdf_0242ac1c0002row4_col5\" class=\"data row4 col5\" >0.922091</td>\n",
       "                        <td id=\"T_015b6f6a_7f40_11ea_8bdf_0242ac1c0002row4_col6\" class=\"data row4 col6\" >-0.734389</td>\n",
       "            </tr>\n",
       "            <tr>\n",
       "                        <th id=\"T_015b6f6a_7f40_11ea_8bdf_0242ac1c0002level0_row5\" class=\"row_heading level0 row5\" >HPI</th>\n",
       "                        <td id=\"T_015b6f6a_7f40_11ea_8bdf_0242ac1c0002row5_col0\" class=\"data row5 col0\" >0.841572</td>\n",
       "                        <td id=\"T_015b6f6a_7f40_11ea_8bdf_0242ac1c0002row5_col1\" class=\"data row5 col1\" >0.771001</td>\n",
       "                        <td id=\"T_015b6f6a_7f40_11ea_8bdf_0242ac1c0002row5_col2\" class=\"data row5 col2\" >-0.569874</td>\n",
       "                        <td id=\"T_015b6f6a_7f40_11ea_8bdf_0242ac1c0002row5_col3\" class=\"data row5 col3\" >-0.073045</td>\n",
       "                        <td id=\"T_015b6f6a_7f40_11ea_8bdf_0242ac1c0002row5_col4\" class=\"data row5 col4\" >0.922091</td>\n",
       "                        <td id=\"T_015b6f6a_7f40_11ea_8bdf_0242ac1c0002row5_col5\" class=\"data row5 col5\" >1.000000</td>\n",
       "                        <td id=\"T_015b6f6a_7f40_11ea_8bdf_0242ac1c0002row5_col6\" class=\"data row5 col6\" >-0.550047</td>\n",
       "            </tr>\n",
       "            <tr>\n",
       "                        <th id=\"T_015b6f6a_7f40_11ea_8bdf_0242ac1c0002level0_row6\" class=\"row_heading level0 row6\" >CDS5Y</th>\n",
       "                        <td id=\"T_015b6f6a_7f40_11ea_8bdf_0242ac1c0002row6_col0\" class=\"data row6 col0\" >-0.706834</td>\n",
       "                        <td id=\"T_015b6f6a_7f40_11ea_8bdf_0242ac1c0002row6_col1\" class=\"data row6 col1\" >-0.680078</td>\n",
       "                        <td id=\"T_015b6f6a_7f40_11ea_8bdf_0242ac1c0002row6_col2\" class=\"data row6 col2\" >-0.094637</td>\n",
       "                        <td id=\"T_015b6f6a_7f40_11ea_8bdf_0242ac1c0002row6_col3\" class=\"data row6 col3\" >0.657414</td>\n",
       "                        <td id=\"T_015b6f6a_7f40_11ea_8bdf_0242ac1c0002row6_col4\" class=\"data row6 col4\" >-0.734389</td>\n",
       "                        <td id=\"T_015b6f6a_7f40_11ea_8bdf_0242ac1c0002row6_col5\" class=\"data row6 col5\" >-0.550047</td>\n",
       "                        <td id=\"T_015b6f6a_7f40_11ea_8bdf_0242ac1c0002row6_col6\" class=\"data row6 col6\" >1.000000</td>\n",
       "            </tr>\n",
       "    </tbody></table>"
      ],
      "text/plain": [
       "<pandas.io.formats.style.Styler at 0x7f4625f4f748>"
      ]
     },
     "execution_count": 17,
     "metadata": {
      "tags": []
     },
     "output_type": "execute_result"
    }
   ],
   "source": [
    "# Check which variables are correlated with VIX and which are correlated with each other\n",
    "random_state = np.random.RandomState(0)\n",
    "corr = hist_data_.corr()\n",
    "corr.style.background_gradient(cmap='coolwarm')"
   ]
  },
  {
   "cell_type": "markdown",
   "metadata": {
    "colab_type": "text",
    "id": "6WFQf9MsGl2P"
   },
   "source": [
    "Data cleaning\n",
    "1. Remove rows where VIX has no data due to those rows holding no value on any supervised model\n",
    "2. Some variables are highly correlated, for example, the SP500 and NASDAQ. But the model can handle correlations between independent variables and thus neither will be removed.\n",
    "3. The CPI data brings problems due to its quarterly nature and has a very low correlation with the VIX and will be removed\n",
    "4. Replace all NaN values with 0\n",
    "5. Outliers won't be removed as they can be helpful to the type of model built"
   ]
  },
  {
   "cell_type": "code",
   "execution_count": null,
   "metadata": {
    "colab": {},
    "colab_type": "code",
    "id": "ESITKSWAGvQs"
   },
   "outputs": [],
   "source": [
    "# make a copy of original df for later use\n",
    "hist_data_original = hist_data_.copy(deep=True)\n",
    "hist_data_original.fillna(value=0, inplace=True)\n",
    "\n",
    "hist_data_.drop(labels=['CPI'], axis=1, inplace=True) # drop the CPI column\n",
    "hist_data_.dropna(subset=[value_predict], inplace=True) # drop NaN's \n",
    "hist_data_.fillna(value=0, inplace=True) # replace NaN with 0 "
   ]
  },
  {
   "cell_type": "markdown",
   "metadata": {
    "colab_type": "text",
    "id": "qFQq4530II_O"
   },
   "source": [
    "**Data transformation**\n",
    "Given that the VIX measures volatility, we need to transform the data to calculate the change from period to period in each variable. The model won´t have good predictions on static data."
   ]
  },
  {
   "cell_type": "code",
   "execution_count": null,
   "metadata": {
    "colab": {},
    "colab_type": "code",
    "id": "2wsBfU1rIdbu"
   },
   "outputs": [],
   "source": [
    "for column in hist_data_.columns:\n",
    "    if column != value_predict:\n",
    "      for i in range(120, len(hist_data_)):       \n",
    "        if hist_data_[column][i-1] != 0:\n",
    "          hist_data_[column][i] = (hist_data_[column][i] - hist_data_[column][i-1])/ (hist_data_[column][i-1])  "
   ]
  },
  {
   "cell_type": "code",
   "execution_count": null,
   "metadata": {
    "colab": {
     "base_uri": "https://localhost:8080/",
     "height": 34
    },
    "colab_type": "code",
    "id": "FFiEcd6YR0K7",
    "outputId": "c996b466-0ca8-4217-ea70-d622a92c9100"
   },
   "outputs": [
    {
     "data": {
      "text/plain": [
       "(348, 6)"
      ]
     },
     "execution_count": 20,
     "metadata": {
      "tags": []
     },
     "output_type": "execute_result"
    }
   ],
   "source": [
    "hist_data_.shape"
   ]
  },
  {
   "cell_type": "code",
   "execution_count": null,
   "metadata": {
    "colab": {},
    "colab_type": "code",
    "id": "BvkfKAg-mfaN"
   },
   "outputs": [],
   "source": [
    "# convert time series to supervised learning\n",
    "def series_to_supervised(data_frame, n_in=1, n_out=1, dropnan=True):\n",
    "  # how many features?\n",
    "  n_vars = len(hist_data_.head().columns)\n",
    "  cols = list()\n",
    "  names = list()\n",
    "\n",
    "  # input sequence (t-n...t-1)\n",
    "  for i in range(n_in, 0, -1):\n",
    "    cols.append(data_frame.shift(i))\n",
    "    names += [('%s(t-%d)' % (column_name, i)) for column_name in data_frame.columns]\n",
    "  \n",
    "  for i in range(0, n_out):\n",
    "    cols.append(data_frame.shift(-i))\n",
    "    if i == 0:\n",
    "      names += [('%s(t)' % (column_name)) for column_name in data_frame.columns]\n",
    "    else:\n",
    "      names += [('%s(t-%d)' % (column_name, i)) for column_name in data_frame.columns]\n",
    "  \n",
    "  # put all together\n",
    "  agg = pd.concat(cols, axis=1)\n",
    "  agg.columns = names\n",
    "\n",
    "  if dropnan:\n",
    "    agg.dropna(inplace=True)\n",
    "  return agg\n"
   ]
  },
  {
   "cell_type": "code",
   "execution_count": null,
   "metadata": {
    "colab": {
     "base_uri": "https://localhost:8080/",
     "height": 235
    },
    "colab_type": "code",
    "id": "lmVJX9rX_C4G",
    "outputId": "73ce365a-1008-4e27-eb60-dc29b9a346a6"
   },
   "outputs": [
    {
     "data": {
      "text/html": [
       "<div>\n",
       "<style scoped>\n",
       "    .dataframe tbody tr th:only-of-type {\n",
       "        vertical-align: middle;\n",
       "    }\n",
       "\n",
       "    .dataframe tbody tr th {\n",
       "        vertical-align: top;\n",
       "    }\n",
       "\n",
       "    .dataframe thead th {\n",
       "        text-align: right;\n",
       "    }\n",
       "</style>\n",
       "<table border=\"1\" class=\"dataframe\">\n",
       "  <thead>\n",
       "    <tr style=\"text-align: right;\">\n",
       "      <th></th>\n",
       "      <th>SP500(t-2)</th>\n",
       "      <th>NASDAQ(t-2)</th>\n",
       "      <th>LIBOR3M(t-2)</th>\n",
       "      <th>VIX(t-2)</th>\n",
       "      <th>HPI(t-2)</th>\n",
       "      <th>CDS5Y(t-2)</th>\n",
       "      <th>SP500(t-1)</th>\n",
       "      <th>NASDAQ(t-1)</th>\n",
       "      <th>LIBOR3M(t-1)</th>\n",
       "      <th>VIX(t-1)</th>\n",
       "      <th>HPI(t-1)</th>\n",
       "      <th>CDS5Y(t-1)</th>\n",
       "      <th>SP500(t)</th>\n",
       "      <th>NASDAQ(t)</th>\n",
       "      <th>LIBOR3M(t)</th>\n",
       "      <th>VIX(t)</th>\n",
       "      <th>HPI(t)</th>\n",
       "      <th>CDS5Y(t)</th>\n",
       "    </tr>\n",
       "    <tr>\n",
       "      <th>date</th>\n",
       "      <th></th>\n",
       "      <th></th>\n",
       "      <th></th>\n",
       "      <th></th>\n",
       "      <th></th>\n",
       "      <th></th>\n",
       "      <th></th>\n",
       "      <th></th>\n",
       "      <th></th>\n",
       "      <th></th>\n",
       "      <th></th>\n",
       "      <th></th>\n",
       "      <th></th>\n",
       "      <th></th>\n",
       "      <th></th>\n",
       "      <th></th>\n",
       "      <th></th>\n",
       "      <th></th>\n",
       "    </tr>\n",
       "  </thead>\n",
       "  <tbody>\n",
       "    <tr>\n",
       "      <th>1990-01-01</th>\n",
       "      <td>0.00</td>\n",
       "      <td>0.00</td>\n",
       "      <td>0.000</td>\n",
       "      <td>0.00</td>\n",
       "      <td>0.0</td>\n",
       "      <td>0.0</td>\n",
       "      <td>0.00</td>\n",
       "      <td>0.00</td>\n",
       "      <td>0.0000</td>\n",
       "      <td>0.00</td>\n",
       "      <td>0.0</td>\n",
       "      <td>0.0</td>\n",
       "      <td>329.08</td>\n",
       "      <td>415.81</td>\n",
       "      <td>8.3750</td>\n",
       "      <td>25.36</td>\n",
       "      <td>0.0</td>\n",
       "      <td>0.0</td>\n",
       "    </tr>\n",
       "    <tr>\n",
       "      <th>1990-02-01</th>\n",
       "      <td>0.00</td>\n",
       "      <td>0.00</td>\n",
       "      <td>0.000</td>\n",
       "      <td>0.00</td>\n",
       "      <td>0.0</td>\n",
       "      <td>0.0</td>\n",
       "      <td>329.08</td>\n",
       "      <td>415.81</td>\n",
       "      <td>8.3750</td>\n",
       "      <td>25.36</td>\n",
       "      <td>0.0</td>\n",
       "      <td>0.0</td>\n",
       "      <td>331.89</td>\n",
       "      <td>425.83</td>\n",
       "      <td>8.3750</td>\n",
       "      <td>21.99</td>\n",
       "      <td>0.0</td>\n",
       "      <td>0.0</td>\n",
       "    </tr>\n",
       "    <tr>\n",
       "      <th>1990-03-01</th>\n",
       "      <td>329.08</td>\n",
       "      <td>415.81</td>\n",
       "      <td>8.375</td>\n",
       "      <td>25.36</td>\n",
       "      <td>0.0</td>\n",
       "      <td>0.0</td>\n",
       "      <td>331.89</td>\n",
       "      <td>425.83</td>\n",
       "      <td>8.3750</td>\n",
       "      <td>21.99</td>\n",
       "      <td>0.0</td>\n",
       "      <td>0.0</td>\n",
       "      <td>339.94</td>\n",
       "      <td>435.54</td>\n",
       "      <td>8.5000</td>\n",
       "      <td>19.73</td>\n",
       "      <td>0.0</td>\n",
       "      <td>0.0</td>\n",
       "    </tr>\n",
       "    <tr>\n",
       "      <th>1990-04-01</th>\n",
       "      <td>331.89</td>\n",
       "      <td>425.83</td>\n",
       "      <td>8.375</td>\n",
       "      <td>21.99</td>\n",
       "      <td>0.0</td>\n",
       "      <td>0.0</td>\n",
       "      <td>339.94</td>\n",
       "      <td>435.54</td>\n",
       "      <td>8.5000</td>\n",
       "      <td>19.73</td>\n",
       "      <td>0.0</td>\n",
       "      <td>0.0</td>\n",
       "      <td>330.80</td>\n",
       "      <td>420.07</td>\n",
       "      <td>8.6875</td>\n",
       "      <td>19.52</td>\n",
       "      <td>0.0</td>\n",
       "      <td>0.0</td>\n",
       "    </tr>\n",
       "    <tr>\n",
       "      <th>1990-05-01</th>\n",
       "      <td>339.94</td>\n",
       "      <td>435.54</td>\n",
       "      <td>8.500</td>\n",
       "      <td>19.73</td>\n",
       "      <td>0.0</td>\n",
       "      <td>0.0</td>\n",
       "      <td>330.80</td>\n",
       "      <td>420.07</td>\n",
       "      <td>8.6875</td>\n",
       "      <td>19.52</td>\n",
       "      <td>0.0</td>\n",
       "      <td>0.0</td>\n",
       "      <td>361.23</td>\n",
       "      <td>458.97</td>\n",
       "      <td>8.3750</td>\n",
       "      <td>17.37</td>\n",
       "      <td>0.0</td>\n",
       "      <td>0.0</td>\n",
       "    </tr>\n",
       "  </tbody>\n",
       "</table>\n",
       "</div>"
      ],
      "text/plain": [
       "            SP500(t-2)  NASDAQ(t-2)  LIBOR3M(t-2)  ...  VIX(t)  HPI(t)  CDS5Y(t)\n",
       "date                                               ...                          \n",
       "1990-01-01        0.00         0.00         0.000  ...   25.36     0.0       0.0\n",
       "1990-02-01        0.00         0.00         0.000  ...   21.99     0.0       0.0\n",
       "1990-03-01      329.08       415.81         8.375  ...   19.73     0.0       0.0\n",
       "1990-04-01      331.89       425.83         8.375  ...   19.52     0.0       0.0\n",
       "1990-05-01      339.94       435.54         8.500  ...   17.37     0.0       0.0\n",
       "\n",
       "[5 rows x 18 columns]"
      ]
     },
     "execution_count": 22,
     "metadata": {
      "tags": []
     },
     "output_type": "execute_result"
    }
   ],
   "source": [
    "hist_data_supervised = series_to_supervised(hist_data_, n_in=2, n_out=1, dropnan=False)\n",
    "hist_data_supervised.fillna(value=0, inplace=True) # replace NaN with 0 \n",
    "hist_data_supervised.head()"
   ]
  },
  {
   "cell_type": "code",
   "execution_count": null,
   "metadata": {
    "colab": {
     "base_uri": "https://localhost:8080/",
     "height": 235
    },
    "colab_type": "code",
    "id": "Ld2Mogbc6Jk5",
    "outputId": "fa9f7f74-f88d-4967-944b-78ef183e1b08"
   },
   "outputs": [
    {
     "data": {
      "text/html": [
       "<div>\n",
       "<style scoped>\n",
       "    .dataframe tbody tr th:only-of-type {\n",
       "        vertical-align: middle;\n",
       "    }\n",
       "\n",
       "    .dataframe tbody tr th {\n",
       "        vertical-align: top;\n",
       "    }\n",
       "\n",
       "    .dataframe thead th {\n",
       "        text-align: right;\n",
       "    }\n",
       "</style>\n",
       "<table border=\"1\" class=\"dataframe\">\n",
       "  <thead>\n",
       "    <tr style=\"text-align: right;\">\n",
       "      <th></th>\n",
       "      <th>SP500(t-2)</th>\n",
       "      <th>NASDAQ(t-2)</th>\n",
       "      <th>LIBOR3M(t-2)</th>\n",
       "      <th>VIX(t-2)</th>\n",
       "      <th>HPI(t-2)</th>\n",
       "      <th>CDS5Y(t-2)</th>\n",
       "      <th>SP500(t-1)</th>\n",
       "      <th>NASDAQ(t-1)</th>\n",
       "      <th>LIBOR3M(t-1)</th>\n",
       "      <th>VIX(t-1)</th>\n",
       "      <th>HPI(t-1)</th>\n",
       "      <th>CDS5Y(t-1)</th>\n",
       "      <th>VIX(t)</th>\n",
       "    </tr>\n",
       "    <tr>\n",
       "      <th>date</th>\n",
       "      <th></th>\n",
       "      <th></th>\n",
       "      <th></th>\n",
       "      <th></th>\n",
       "      <th></th>\n",
       "      <th></th>\n",
       "      <th></th>\n",
       "      <th></th>\n",
       "      <th></th>\n",
       "      <th></th>\n",
       "      <th></th>\n",
       "      <th></th>\n",
       "      <th></th>\n",
       "    </tr>\n",
       "  </thead>\n",
       "  <tbody>\n",
       "    <tr>\n",
       "      <th>1990-01-01</th>\n",
       "      <td>0.00</td>\n",
       "      <td>0.00</td>\n",
       "      <td>0.000</td>\n",
       "      <td>0.00</td>\n",
       "      <td>0.0</td>\n",
       "      <td>0.0</td>\n",
       "      <td>0.00</td>\n",
       "      <td>0.00</td>\n",
       "      <td>0.0000</td>\n",
       "      <td>0.00</td>\n",
       "      <td>0.0</td>\n",
       "      <td>0.0</td>\n",
       "      <td>25.36</td>\n",
       "    </tr>\n",
       "    <tr>\n",
       "      <th>1990-02-01</th>\n",
       "      <td>0.00</td>\n",
       "      <td>0.00</td>\n",
       "      <td>0.000</td>\n",
       "      <td>0.00</td>\n",
       "      <td>0.0</td>\n",
       "      <td>0.0</td>\n",
       "      <td>329.08</td>\n",
       "      <td>415.81</td>\n",
       "      <td>8.3750</td>\n",
       "      <td>25.36</td>\n",
       "      <td>0.0</td>\n",
       "      <td>0.0</td>\n",
       "      <td>21.99</td>\n",
       "    </tr>\n",
       "    <tr>\n",
       "      <th>1990-03-01</th>\n",
       "      <td>329.08</td>\n",
       "      <td>415.81</td>\n",
       "      <td>8.375</td>\n",
       "      <td>25.36</td>\n",
       "      <td>0.0</td>\n",
       "      <td>0.0</td>\n",
       "      <td>331.89</td>\n",
       "      <td>425.83</td>\n",
       "      <td>8.3750</td>\n",
       "      <td>21.99</td>\n",
       "      <td>0.0</td>\n",
       "      <td>0.0</td>\n",
       "      <td>19.73</td>\n",
       "    </tr>\n",
       "    <tr>\n",
       "      <th>1990-04-01</th>\n",
       "      <td>331.89</td>\n",
       "      <td>425.83</td>\n",
       "      <td>8.375</td>\n",
       "      <td>21.99</td>\n",
       "      <td>0.0</td>\n",
       "      <td>0.0</td>\n",
       "      <td>339.94</td>\n",
       "      <td>435.54</td>\n",
       "      <td>8.5000</td>\n",
       "      <td>19.73</td>\n",
       "      <td>0.0</td>\n",
       "      <td>0.0</td>\n",
       "      <td>19.52</td>\n",
       "    </tr>\n",
       "    <tr>\n",
       "      <th>1990-05-01</th>\n",
       "      <td>339.94</td>\n",
       "      <td>435.54</td>\n",
       "      <td>8.500</td>\n",
       "      <td>19.73</td>\n",
       "      <td>0.0</td>\n",
       "      <td>0.0</td>\n",
       "      <td>330.80</td>\n",
       "      <td>420.07</td>\n",
       "      <td>8.6875</td>\n",
       "      <td>19.52</td>\n",
       "      <td>0.0</td>\n",
       "      <td>0.0</td>\n",
       "      <td>17.37</td>\n",
       "    </tr>\n",
       "  </tbody>\n",
       "</table>\n",
       "</div>"
      ],
      "text/plain": [
       "            SP500(t-2)  NASDAQ(t-2)  LIBOR3M(t-2)  ...  HPI(t-1)  CDS5Y(t-1)  VIX(t)\n",
       "date                                               ...                              \n",
       "1990-01-01        0.00         0.00         0.000  ...       0.0         0.0   25.36\n",
       "1990-02-01        0.00         0.00         0.000  ...       0.0         0.0   21.99\n",
       "1990-03-01      329.08       415.81         8.375  ...       0.0         0.0   19.73\n",
       "1990-04-01      331.89       425.83         8.375  ...       0.0         0.0   19.52\n",
       "1990-05-01      339.94       435.54         8.500  ...       0.0         0.0   17.37\n",
       "\n",
       "[5 rows x 13 columns]"
      ]
     },
     "execution_count": 23,
     "metadata": {
      "tags": []
     },
     "output_type": "execute_result"
    }
   ],
   "source": [
    "# drop columns we don't want to predict\n",
    "column_to_drop = []\n",
    "for column in hist_data_supervised.columns:\n",
    "  if column[-3:] == '(t)' and value_predict not in column: #Only works if n_out = 1\n",
    "    column_to_drop.append(column)\n",
    "    \n",
    "hist_data_supervised.drop(column_to_drop, axis=1, inplace=True) \n",
    "hist_data_supervised.head()"
   ]
  },
  {
   "cell_type": "code",
   "execution_count": null,
   "metadata": {
    "colab": {
     "base_uri": "https://localhost:8080/",
     "height": 313
    },
    "colab_type": "code",
    "id": "9fhPIAfREGuj",
    "outputId": "ef176729-8d74-4752-f83b-673c13d9b71e"
   },
   "outputs": [
    {
     "data": {
      "text/html": [
       "<style  type=\"text/css\" >\n",
       "    #T_019b8adc_7f40_11ea_8bdf_0242ac1c0002row0_col0 {\n",
       "            background-color:  #b40426;\n",
       "            color:  #f1f1f1;\n",
       "        }    #T_019b8adc_7f40_11ea_8bdf_0242ac1c0002row0_col1 {\n",
       "            background-color:  #b50927;\n",
       "            color:  #f1f1f1;\n",
       "        }    #T_019b8adc_7f40_11ea_8bdf_0242ac1c0002row0_col2 {\n",
       "            background-color:  #4257c9;\n",
       "            color:  #f1f1f1;\n",
       "        }    #T_019b8adc_7f40_11ea_8bdf_0242ac1c0002row0_col3 {\n",
       "            background-color:  #516ddb;\n",
       "            color:  #000000;\n",
       "        }    #T_019b8adc_7f40_11ea_8bdf_0242ac1c0002row0_col4 {\n",
       "            background-color:  #3f53c6;\n",
       "            color:  #f1f1f1;\n",
       "        }    #T_019b8adc_7f40_11ea_8bdf_0242ac1c0002row0_col5 {\n",
       "            background-color:  #5977e3;\n",
       "            color:  #000000;\n",
       "        }    #T_019b8adc_7f40_11ea_8bdf_0242ac1c0002row0_col6 {\n",
       "            background-color:  #e3d9d3;\n",
       "            color:  #000000;\n",
       "        }    #T_019b8adc_7f40_11ea_8bdf_0242ac1c0002row0_col7 {\n",
       "            background-color:  #e0dbd8;\n",
       "            color:  #000000;\n",
       "        }    #T_019b8adc_7f40_11ea_8bdf_0242ac1c0002row0_col8 {\n",
       "            background-color:  #dfdbd9;\n",
       "            color:  #000000;\n",
       "        }    #T_019b8adc_7f40_11ea_8bdf_0242ac1c0002row0_col9 {\n",
       "            background-color:  #506bda;\n",
       "            color:  #000000;\n",
       "        }    #T_019b8adc_7f40_11ea_8bdf_0242ac1c0002row0_col10 {\n",
       "            background-color:  #dddcdc;\n",
       "            color:  #000000;\n",
       "        }    #T_019b8adc_7f40_11ea_8bdf_0242ac1c0002row0_col11 {\n",
       "            background-color:  #5977e3;\n",
       "            color:  #000000;\n",
       "        }    #T_019b8adc_7f40_11ea_8bdf_0242ac1c0002row0_col12 {\n",
       "            background-color:  #445acc;\n",
       "            color:  #f1f1f1;\n",
       "        }    #T_019b8adc_7f40_11ea_8bdf_0242ac1c0002row1_col0 {\n",
       "            background-color:  #b70d28;\n",
       "            color:  #f1f1f1;\n",
       "        }    #T_019b8adc_7f40_11ea_8bdf_0242ac1c0002row1_col1 {\n",
       "            background-color:  #b40426;\n",
       "            color:  #f1f1f1;\n",
       "        }    #T_019b8adc_7f40_11ea_8bdf_0242ac1c0002row1_col2 {\n",
       "            background-color:  #3b4cc0;\n",
       "            color:  #f1f1f1;\n",
       "        }    #T_019b8adc_7f40_11ea_8bdf_0242ac1c0002row1_col3 {\n",
       "            background-color:  #4f69d9;\n",
       "            color:  #000000;\n",
       "        }    #T_019b8adc_7f40_11ea_8bdf_0242ac1c0002row1_col4 {\n",
       "            background-color:  #3b4cc0;\n",
       "            color:  #f1f1f1;\n",
       "        }    #T_019b8adc_7f40_11ea_8bdf_0242ac1c0002row1_col5 {\n",
       "            background-color:  #5572df;\n",
       "            color:  #000000;\n",
       "        }    #T_019b8adc_7f40_11ea_8bdf_0242ac1c0002row1_col6 {\n",
       "            background-color:  #dddcdc;\n",
       "            color:  #000000;\n",
       "        }    #T_019b8adc_7f40_11ea_8bdf_0242ac1c0002row1_col7 {\n",
       "            background-color:  #dddcdc;\n",
       "            color:  #000000;\n",
       "        }    #T_019b8adc_7f40_11ea_8bdf_0242ac1c0002row1_col8 {\n",
       "            background-color:  #dddcdc;\n",
       "            color:  #000000;\n",
       "        }    #T_019b8adc_7f40_11ea_8bdf_0242ac1c0002row1_col9 {\n",
       "            background-color:  #4e68d8;\n",
       "            color:  #000000;\n",
       "        }    #T_019b8adc_7f40_11ea_8bdf_0242ac1c0002row1_col10 {\n",
       "            background-color:  #dddcdc;\n",
       "            color:  #000000;\n",
       "        }    #T_019b8adc_7f40_11ea_8bdf_0242ac1c0002row1_col11 {\n",
       "            background-color:  #5572df;\n",
       "            color:  #000000;\n",
       "        }    #T_019b8adc_7f40_11ea_8bdf_0242ac1c0002row1_col12 {\n",
       "            background-color:  #4055c8;\n",
       "            color:  #f1f1f1;\n",
       "        }    #T_019b8adc_7f40_11ea_8bdf_0242ac1c0002row2_col0 {\n",
       "            background-color:  #3e51c5;\n",
       "            color:  #f1f1f1;\n",
       "        }    #T_019b8adc_7f40_11ea_8bdf_0242ac1c0002row2_col1 {\n",
       "            background-color:  #3c4ec2;\n",
       "            color:  #f1f1f1;\n",
       "        }    #T_019b8adc_7f40_11ea_8bdf_0242ac1c0002row2_col2 {\n",
       "            background-color:  #b40426;\n",
       "            color:  #f1f1f1;\n",
       "        }    #T_019b8adc_7f40_11ea_8bdf_0242ac1c0002row2_col3 {\n",
       "            background-color:  #5d7ce6;\n",
       "            color:  #000000;\n",
       "        }    #T_019b8adc_7f40_11ea_8bdf_0242ac1c0002row2_col4 {\n",
       "            background-color:  #b40426;\n",
       "            color:  #f1f1f1;\n",
       "        }    #T_019b8adc_7f40_11ea_8bdf_0242ac1c0002row2_col5 {\n",
       "            background-color:  #5a78e4;\n",
       "            color:  #000000;\n",
       "        }    #T_019b8adc_7f40_11ea_8bdf_0242ac1c0002row2_col6 {\n",
       "            background-color:  #dddcdc;\n",
       "            color:  #000000;\n",
       "        }    #T_019b8adc_7f40_11ea_8bdf_0242ac1c0002row2_col7 {\n",
       "            background-color:  #dddcdc;\n",
       "            color:  #000000;\n",
       "        }    #T_019b8adc_7f40_11ea_8bdf_0242ac1c0002row2_col8 {\n",
       "            background-color:  #dcdddd;\n",
       "            color:  #000000;\n",
       "        }    #T_019b8adc_7f40_11ea_8bdf_0242ac1c0002row2_col9 {\n",
       "            background-color:  #5e7de7;\n",
       "            color:  #000000;\n",
       "        }    #T_019b8adc_7f40_11ea_8bdf_0242ac1c0002row2_col10 {\n",
       "            background-color:  #dcdddd;\n",
       "            color:  #000000;\n",
       "        }    #T_019b8adc_7f40_11ea_8bdf_0242ac1c0002row2_col11 {\n",
       "            background-color:  #5a78e4;\n",
       "            color:  #000000;\n",
       "        }    #T_019b8adc_7f40_11ea_8bdf_0242ac1c0002row2_col12 {\n",
       "            background-color:  #5a78e4;\n",
       "            color:  #000000;\n",
       "        }    #T_019b8adc_7f40_11ea_8bdf_0242ac1c0002row3_col0 {\n",
       "            background-color:  #d8dce2;\n",
       "            color:  #000000;\n",
       "        }    #T_019b8adc_7f40_11ea_8bdf_0242ac1c0002row3_col1 {\n",
       "            background-color:  #d9dce1;\n",
       "            color:  #000000;\n",
       "        }    #T_019b8adc_7f40_11ea_8bdf_0242ac1c0002row3_col2 {\n",
       "            background-color:  #dedcdb;\n",
       "            color:  #000000;\n",
       "        }    #T_019b8adc_7f40_11ea_8bdf_0242ac1c0002row3_col3 {\n",
       "            background-color:  #b40426;\n",
       "            color:  #f1f1f1;\n",
       "        }    #T_019b8adc_7f40_11ea_8bdf_0242ac1c0002row3_col4 {\n",
       "            background-color:  #dfdbd9;\n",
       "            color:  #000000;\n",
       "        }    #T_019b8adc_7f40_11ea_8bdf_0242ac1c0002row3_col5 {\n",
       "            background-color:  #3b4cc0;\n",
       "            color:  #f1f1f1;\n",
       "        }    #T_019b8adc_7f40_11ea_8bdf_0242ac1c0002row3_col6 {\n",
       "            background-color:  #d6dce4;\n",
       "            color:  #000000;\n",
       "        }    #T_019b8adc_7f40_11ea_8bdf_0242ac1c0002row3_col7 {\n",
       "            background-color:  #d7dce3;\n",
       "            color:  #000000;\n",
       "        }    #T_019b8adc_7f40_11ea_8bdf_0242ac1c0002row3_col8 {\n",
       "            background-color:  #dfdbd9;\n",
       "            color:  #000000;\n",
       "        }    #T_019b8adc_7f40_11ea_8bdf_0242ac1c0002row3_col9 {\n",
       "            background-color:  #e36c55;\n",
       "            color:  #000000;\n",
       "        }    #T_019b8adc_7f40_11ea_8bdf_0242ac1c0002row3_col10 {\n",
       "            background-color:  #e1dad6;\n",
       "            color:  #000000;\n",
       "        }    #T_019b8adc_7f40_11ea_8bdf_0242ac1c0002row3_col11 {\n",
       "            background-color:  #4257c9;\n",
       "            color:  #f1f1f1;\n",
       "        }    #T_019b8adc_7f40_11ea_8bdf_0242ac1c0002row3_col12 {\n",
       "            background-color:  #f7aa8c;\n",
       "            color:  #000000;\n",
       "        }    #T_019b8adc_7f40_11ea_8bdf_0242ac1c0002row4_col0 {\n",
       "            background-color:  #3b4cc0;\n",
       "            color:  #f1f1f1;\n",
       "        }    #T_019b8adc_7f40_11ea_8bdf_0242ac1c0002row4_col1 {\n",
       "            background-color:  #3b4cc0;\n",
       "            color:  #f1f1f1;\n",
       "        }    #T_019b8adc_7f40_11ea_8bdf_0242ac1c0002row4_col2 {\n",
       "            background-color:  #b40426;\n",
       "            color:  #f1f1f1;\n",
       "        }    #T_019b8adc_7f40_11ea_8bdf_0242ac1c0002row4_col3 {\n",
       "            background-color:  #5d7ce6;\n",
       "            color:  #000000;\n",
       "        }    #T_019b8adc_7f40_11ea_8bdf_0242ac1c0002row4_col4 {\n",
       "            background-color:  #b40426;\n",
       "            color:  #f1f1f1;\n",
       "        }    #T_019b8adc_7f40_11ea_8bdf_0242ac1c0002row4_col5 {\n",
       "            background-color:  #5977e3;\n",
       "            color:  #000000;\n",
       "        }    #T_019b8adc_7f40_11ea_8bdf_0242ac1c0002row4_col6 {\n",
       "            background-color:  #dadce0;\n",
       "            color:  #000000;\n",
       "        }    #T_019b8adc_7f40_11ea_8bdf_0242ac1c0002row4_col7 {\n",
       "            background-color:  #dddcdc;\n",
       "            color:  #000000;\n",
       "        }    #T_019b8adc_7f40_11ea_8bdf_0242ac1c0002row4_col8 {\n",
       "            background-color:  #dbdcde;\n",
       "            color:  #000000;\n",
       "        }    #T_019b8adc_7f40_11ea_8bdf_0242ac1c0002row4_col9 {\n",
       "            background-color:  #5e7de7;\n",
       "            color:  #000000;\n",
       "        }    #T_019b8adc_7f40_11ea_8bdf_0242ac1c0002row4_col10 {\n",
       "            background-color:  #dcdddd;\n",
       "            color:  #000000;\n",
       "        }    #T_019b8adc_7f40_11ea_8bdf_0242ac1c0002row4_col11 {\n",
       "            background-color:  #5977e3;\n",
       "            color:  #000000;\n",
       "        }    #T_019b8adc_7f40_11ea_8bdf_0242ac1c0002row4_col12 {\n",
       "            background-color:  #5a78e4;\n",
       "            color:  #000000;\n",
       "        }    #T_019b8adc_7f40_11ea_8bdf_0242ac1c0002row5_col0 {\n",
       "            background-color:  #dbdcde;\n",
       "            color:  #000000;\n",
       "        }    #T_019b8adc_7f40_11ea_8bdf_0242ac1c0002row5_col1 {\n",
       "            background-color:  #dcdddd;\n",
       "            color:  #000000;\n",
       "        }    #T_019b8adc_7f40_11ea_8bdf_0242ac1c0002row5_col2 {\n",
       "            background-color:  #dddcdc;\n",
       "            color:  #000000;\n",
       "        }    #T_019b8adc_7f40_11ea_8bdf_0242ac1c0002row5_col3 {\n",
       "            background-color:  #3b4cc0;\n",
       "            color:  #f1f1f1;\n",
       "        }    #T_019b8adc_7f40_11ea_8bdf_0242ac1c0002row5_col4 {\n",
       "            background-color:  #dddcdc;\n",
       "            color:  #000000;\n",
       "        }    #T_019b8adc_7f40_11ea_8bdf_0242ac1c0002row5_col5 {\n",
       "            background-color:  #b40426;\n",
       "            color:  #f1f1f1;\n",
       "        }    #T_019b8adc_7f40_11ea_8bdf_0242ac1c0002row5_col6 {\n",
       "            background-color:  #dbdcde;\n",
       "            color:  #000000;\n",
       "        }    #T_019b8adc_7f40_11ea_8bdf_0242ac1c0002row5_col7 {\n",
       "            background-color:  #dcdddd;\n",
       "            color:  #000000;\n",
       "        }    #T_019b8adc_7f40_11ea_8bdf_0242ac1c0002row5_col8 {\n",
       "            background-color:  #dddcdc;\n",
       "            color:  #000000;\n",
       "        }    #T_019b8adc_7f40_11ea_8bdf_0242ac1c0002row5_col9 {\n",
       "            background-color:  #4358cb;\n",
       "            color:  #f1f1f1;\n",
       "        }    #T_019b8adc_7f40_11ea_8bdf_0242ac1c0002row5_col10 {\n",
       "            background-color:  #dddcdc;\n",
       "            color:  #000000;\n",
       "        }    #T_019b8adc_7f40_11ea_8bdf_0242ac1c0002row5_col11 {\n",
       "            background-color:  #5a78e4;\n",
       "            color:  #000000;\n",
       "        }    #T_019b8adc_7f40_11ea_8bdf_0242ac1c0002row5_col12 {\n",
       "            background-color:  #465ecf;\n",
       "            color:  #f1f1f1;\n",
       "        }    #T_019b8adc_7f40_11ea_8bdf_0242ac1c0002row6_col0 {\n",
       "            background-color:  #e3d9d3;\n",
       "            color:  #000000;\n",
       "        }    #T_019b8adc_7f40_11ea_8bdf_0242ac1c0002row6_col1 {\n",
       "            background-color:  #dfdbd9;\n",
       "            color:  #000000;\n",
       "        }    #T_019b8adc_7f40_11ea_8bdf_0242ac1c0002row6_col2 {\n",
       "            background-color:  #dedcdb;\n",
       "            color:  #000000;\n",
       "        }    #T_019b8adc_7f40_11ea_8bdf_0242ac1c0002row6_col3 {\n",
       "            background-color:  #4e68d8;\n",
       "            color:  #000000;\n",
       "        }    #T_019b8adc_7f40_11ea_8bdf_0242ac1c0002row6_col4 {\n",
       "            background-color:  #dddcdc;\n",
       "            color:  #000000;\n",
       "        }    #T_019b8adc_7f40_11ea_8bdf_0242ac1c0002row6_col5 {\n",
       "            background-color:  #5977e3;\n",
       "            color:  #000000;\n",
       "        }    #T_019b8adc_7f40_11ea_8bdf_0242ac1c0002row6_col6 {\n",
       "            background-color:  #b40426;\n",
       "            color:  #f1f1f1;\n",
       "        }    #T_019b8adc_7f40_11ea_8bdf_0242ac1c0002row6_col7 {\n",
       "            background-color:  #b50927;\n",
       "            color:  #f1f1f1;\n",
       "        }    #T_019b8adc_7f40_11ea_8bdf_0242ac1c0002row6_col8 {\n",
       "            background-color:  #4257c9;\n",
       "            color:  #f1f1f1;\n",
       "        }    #T_019b8adc_7f40_11ea_8bdf_0242ac1c0002row6_col9 {\n",
       "            background-color:  #516ddb;\n",
       "            color:  #000000;\n",
       "        }    #T_019b8adc_7f40_11ea_8bdf_0242ac1c0002row6_col10 {\n",
       "            background-color:  #3f53c6;\n",
       "            color:  #f1f1f1;\n",
       "        }    #T_019b8adc_7f40_11ea_8bdf_0242ac1c0002row6_col11 {\n",
       "            background-color:  #5977e3;\n",
       "            color:  #000000;\n",
       "        }    #T_019b8adc_7f40_11ea_8bdf_0242ac1c0002row6_col12 {\n",
       "            background-color:  #485fd1;\n",
       "            color:  #f1f1f1;\n",
       "        }    #T_019b8adc_7f40_11ea_8bdf_0242ac1c0002row7_col0 {\n",
       "            background-color:  #dddcdc;\n",
       "            color:  #000000;\n",
       "        }    #T_019b8adc_7f40_11ea_8bdf_0242ac1c0002row7_col1 {\n",
       "            background-color:  #dddcdc;\n",
       "            color:  #000000;\n",
       "        }    #T_019b8adc_7f40_11ea_8bdf_0242ac1c0002row7_col2 {\n",
       "            background-color:  #dcdddd;\n",
       "            color:  #000000;\n",
       "        }    #T_019b8adc_7f40_11ea_8bdf_0242ac1c0002row7_col3 {\n",
       "            background-color:  #4b64d5;\n",
       "            color:  #f1f1f1;\n",
       "        }    #T_019b8adc_7f40_11ea_8bdf_0242ac1c0002row7_col4 {\n",
       "            background-color:  #dddcdc;\n",
       "            color:  #000000;\n",
       "        }    #T_019b8adc_7f40_11ea_8bdf_0242ac1c0002row7_col5 {\n",
       "            background-color:  #5572df;\n",
       "            color:  #000000;\n",
       "        }    #T_019b8adc_7f40_11ea_8bdf_0242ac1c0002row7_col6 {\n",
       "            background-color:  #b70d28;\n",
       "            color:  #f1f1f1;\n",
       "        }    #T_019b8adc_7f40_11ea_8bdf_0242ac1c0002row7_col7 {\n",
       "            background-color:  #b40426;\n",
       "            color:  #f1f1f1;\n",
       "        }    #T_019b8adc_7f40_11ea_8bdf_0242ac1c0002row7_col8 {\n",
       "            background-color:  #3b4cc0;\n",
       "            color:  #f1f1f1;\n",
       "        }    #T_019b8adc_7f40_11ea_8bdf_0242ac1c0002row7_col9 {\n",
       "            background-color:  #4f69d9;\n",
       "            color:  #000000;\n",
       "        }    #T_019b8adc_7f40_11ea_8bdf_0242ac1c0002row7_col10 {\n",
       "            background-color:  #3b4cc0;\n",
       "            color:  #f1f1f1;\n",
       "        }    #T_019b8adc_7f40_11ea_8bdf_0242ac1c0002row7_col11 {\n",
       "            background-color:  #5572df;\n",
       "            color:  #000000;\n",
       "        }    #T_019b8adc_7f40_11ea_8bdf_0242ac1c0002row7_col12 {\n",
       "            background-color:  #445acc;\n",
       "            color:  #f1f1f1;\n",
       "        }    #T_019b8adc_7f40_11ea_8bdf_0242ac1c0002row8_col0 {\n",
       "            background-color:  #dddcdc;\n",
       "            color:  #000000;\n",
       "        }    #T_019b8adc_7f40_11ea_8bdf_0242ac1c0002row8_col1 {\n",
       "            background-color:  #dedcdb;\n",
       "            color:  #000000;\n",
       "        }    #T_019b8adc_7f40_11ea_8bdf_0242ac1c0002row8_col2 {\n",
       "            background-color:  #dcdddd;\n",
       "            color:  #000000;\n",
       "        }    #T_019b8adc_7f40_11ea_8bdf_0242ac1c0002row8_col3 {\n",
       "            background-color:  #5f7fe8;\n",
       "            color:  #000000;\n",
       "        }    #T_019b8adc_7f40_11ea_8bdf_0242ac1c0002row8_col4 {\n",
       "            background-color:  #dcdddd;\n",
       "            color:  #000000;\n",
       "        }    #T_019b8adc_7f40_11ea_8bdf_0242ac1c0002row8_col5 {\n",
       "            background-color:  #5a78e4;\n",
       "            color:  #000000;\n",
       "        }    #T_019b8adc_7f40_11ea_8bdf_0242ac1c0002row8_col6 {\n",
       "            background-color:  #3e51c5;\n",
       "            color:  #f1f1f1;\n",
       "        }    #T_019b8adc_7f40_11ea_8bdf_0242ac1c0002row8_col7 {\n",
       "            background-color:  #3c4ec2;\n",
       "            color:  #f1f1f1;\n",
       "        }    #T_019b8adc_7f40_11ea_8bdf_0242ac1c0002row8_col8 {\n",
       "            background-color:  #b40426;\n",
       "            color:  #f1f1f1;\n",
       "        }    #T_019b8adc_7f40_11ea_8bdf_0242ac1c0002row8_col9 {\n",
       "            background-color:  #5d7ce6;\n",
       "            color:  #000000;\n",
       "        }    #T_019b8adc_7f40_11ea_8bdf_0242ac1c0002row8_col10 {\n",
       "            background-color:  #b40426;\n",
       "            color:  #f1f1f1;\n",
       "        }    #T_019b8adc_7f40_11ea_8bdf_0242ac1c0002row8_col11 {\n",
       "            background-color:  #5a78e4;\n",
       "            color:  #000000;\n",
       "        }    #T_019b8adc_7f40_11ea_8bdf_0242ac1c0002row8_col12 {\n",
       "            background-color:  #5572df;\n",
       "            color:  #000000;\n",
       "        }    #T_019b8adc_7f40_11ea_8bdf_0242ac1c0002row9_col0 {\n",
       "            background-color:  #d7dce3;\n",
       "            color:  #000000;\n",
       "        }    #T_019b8adc_7f40_11ea_8bdf_0242ac1c0002row9_col1 {\n",
       "            background-color:  #d8dce2;\n",
       "            color:  #000000;\n",
       "        }    #T_019b8adc_7f40_11ea_8bdf_0242ac1c0002row9_col2 {\n",
       "            background-color:  #dfdbd9;\n",
       "            color:  #000000;\n",
       "        }    #T_019b8adc_7f40_11ea_8bdf_0242ac1c0002row9_col3 {\n",
       "            background-color:  #e36c55;\n",
       "            color:  #000000;\n",
       "        }    #T_019b8adc_7f40_11ea_8bdf_0242ac1c0002row9_col4 {\n",
       "            background-color:  #e0dbd8;\n",
       "            color:  #000000;\n",
       "        }    #T_019b8adc_7f40_11ea_8bdf_0242ac1c0002row9_col5 {\n",
       "            background-color:  #4358cb;\n",
       "            color:  #f1f1f1;\n",
       "        }    #T_019b8adc_7f40_11ea_8bdf_0242ac1c0002row9_col6 {\n",
       "            background-color:  #d8dce2;\n",
       "            color:  #000000;\n",
       "        }    #T_019b8adc_7f40_11ea_8bdf_0242ac1c0002row9_col7 {\n",
       "            background-color:  #d9dce1;\n",
       "            color:  #000000;\n",
       "        }    #T_019b8adc_7f40_11ea_8bdf_0242ac1c0002row9_col8 {\n",
       "            background-color:  #dedcdb;\n",
       "            color:  #000000;\n",
       "        }    #T_019b8adc_7f40_11ea_8bdf_0242ac1c0002row9_col9 {\n",
       "            background-color:  #b40426;\n",
       "            color:  #f1f1f1;\n",
       "        }    #T_019b8adc_7f40_11ea_8bdf_0242ac1c0002row9_col10 {\n",
       "            background-color:  #dfdbd9;\n",
       "            color:  #000000;\n",
       "        }    #T_019b8adc_7f40_11ea_8bdf_0242ac1c0002row9_col11 {\n",
       "            background-color:  #3b4cc0;\n",
       "            color:  #f1f1f1;\n",
       "        }    #T_019b8adc_7f40_11ea_8bdf_0242ac1c0002row9_col12 {\n",
       "            background-color:  #e67259;\n",
       "            color:  #000000;\n",
       "        }    #T_019b8adc_7f40_11ea_8bdf_0242ac1c0002row10_col0 {\n",
       "            background-color:  #dadce0;\n",
       "            color:  #000000;\n",
       "        }    #T_019b8adc_7f40_11ea_8bdf_0242ac1c0002row10_col1 {\n",
       "            background-color:  #dddcdc;\n",
       "            color:  #000000;\n",
       "        }    #T_019b8adc_7f40_11ea_8bdf_0242ac1c0002row10_col2 {\n",
       "            background-color:  #dbdcde;\n",
       "            color:  #000000;\n",
       "        }    #T_019b8adc_7f40_11ea_8bdf_0242ac1c0002row10_col3 {\n",
       "            background-color:  #6180e9;\n",
       "            color:  #000000;\n",
       "        }    #T_019b8adc_7f40_11ea_8bdf_0242ac1c0002row10_col4 {\n",
       "            background-color:  #dcdddd;\n",
       "            color:  #000000;\n",
       "        }    #T_019b8adc_7f40_11ea_8bdf_0242ac1c0002row10_col5 {\n",
       "            background-color:  #5977e3;\n",
       "            color:  #000000;\n",
       "        }    #T_019b8adc_7f40_11ea_8bdf_0242ac1c0002row10_col6 {\n",
       "            background-color:  #3b4cc0;\n",
       "            color:  #f1f1f1;\n",
       "        }    #T_019b8adc_7f40_11ea_8bdf_0242ac1c0002row10_col7 {\n",
       "            background-color:  #3b4cc0;\n",
       "            color:  #f1f1f1;\n",
       "        }    #T_019b8adc_7f40_11ea_8bdf_0242ac1c0002row10_col8 {\n",
       "            background-color:  #b40426;\n",
       "            color:  #f1f1f1;\n",
       "        }    #T_019b8adc_7f40_11ea_8bdf_0242ac1c0002row10_col9 {\n",
       "            background-color:  #5d7ce6;\n",
       "            color:  #000000;\n",
       "        }    #T_019b8adc_7f40_11ea_8bdf_0242ac1c0002row10_col10 {\n",
       "            background-color:  #b40426;\n",
       "            color:  #f1f1f1;\n",
       "        }    #T_019b8adc_7f40_11ea_8bdf_0242ac1c0002row10_col11 {\n",
       "            background-color:  #5977e3;\n",
       "            color:  #000000;\n",
       "        }    #T_019b8adc_7f40_11ea_8bdf_0242ac1c0002row10_col12 {\n",
       "            background-color:  #5673e0;\n",
       "            color:  #000000;\n",
       "        }    #T_019b8adc_7f40_11ea_8bdf_0242ac1c0002row11_col0 {\n",
       "            background-color:  #dbdcde;\n",
       "            color:  #000000;\n",
       "        }    #T_019b8adc_7f40_11ea_8bdf_0242ac1c0002row11_col1 {\n",
       "            background-color:  #dcdddd;\n",
       "            color:  #000000;\n",
       "        }    #T_019b8adc_7f40_11ea_8bdf_0242ac1c0002row11_col2 {\n",
       "            background-color:  #dddcdc;\n",
       "            color:  #000000;\n",
       "        }    #T_019b8adc_7f40_11ea_8bdf_0242ac1c0002row11_col3 {\n",
       "            background-color:  #4257c9;\n",
       "            color:  #f1f1f1;\n",
       "        }    #T_019b8adc_7f40_11ea_8bdf_0242ac1c0002row11_col4 {\n",
       "            background-color:  #dddcdc;\n",
       "            color:  #000000;\n",
       "        }    #T_019b8adc_7f40_11ea_8bdf_0242ac1c0002row11_col5 {\n",
       "            background-color:  #5a78e4;\n",
       "            color:  #000000;\n",
       "        }    #T_019b8adc_7f40_11ea_8bdf_0242ac1c0002row11_col6 {\n",
       "            background-color:  #dbdcde;\n",
       "            color:  #000000;\n",
       "        }    #T_019b8adc_7f40_11ea_8bdf_0242ac1c0002row11_col7 {\n",
       "            background-color:  #dcdddd;\n",
       "            color:  #000000;\n",
       "        }    #T_019b8adc_7f40_11ea_8bdf_0242ac1c0002row11_col8 {\n",
       "            background-color:  #dddcdc;\n",
       "            color:  #000000;\n",
       "        }    #T_019b8adc_7f40_11ea_8bdf_0242ac1c0002row11_col9 {\n",
       "            background-color:  #3b4cc0;\n",
       "            color:  #f1f1f1;\n",
       "        }    #T_019b8adc_7f40_11ea_8bdf_0242ac1c0002row11_col10 {\n",
       "            background-color:  #dddcdc;\n",
       "            color:  #000000;\n",
       "        }    #T_019b8adc_7f40_11ea_8bdf_0242ac1c0002row11_col11 {\n",
       "            background-color:  #b40426;\n",
       "            color:  #f1f1f1;\n",
       "        }    #T_019b8adc_7f40_11ea_8bdf_0242ac1c0002row11_col12 {\n",
       "            background-color:  #3b4cc0;\n",
       "            color:  #f1f1f1;\n",
       "        }    #T_019b8adc_7f40_11ea_8bdf_0242ac1c0002row12_col0 {\n",
       "            background-color:  #d6dce4;\n",
       "            color:  #000000;\n",
       "        }    #T_019b8adc_7f40_11ea_8bdf_0242ac1c0002row12_col1 {\n",
       "            background-color:  #d7dce3;\n",
       "            color:  #000000;\n",
       "        }    #T_019b8adc_7f40_11ea_8bdf_0242ac1c0002row12_col2 {\n",
       "            background-color:  #e1dad6;\n",
       "            color:  #000000;\n",
       "        }    #T_019b8adc_7f40_11ea_8bdf_0242ac1c0002row12_col3 {\n",
       "            background-color:  #f7a688;\n",
       "            color:  #000000;\n",
       "        }    #T_019b8adc_7f40_11ea_8bdf_0242ac1c0002row12_col4 {\n",
       "            background-color:  #e2dad5;\n",
       "            color:  #000000;\n",
       "        }    #T_019b8adc_7f40_11ea_8bdf_0242ac1c0002row12_col5 {\n",
       "            background-color:  #4f69d9;\n",
       "            color:  #000000;\n",
       "        }    #T_019b8adc_7f40_11ea_8bdf_0242ac1c0002row12_col6 {\n",
       "            background-color:  #d7dce3;\n",
       "            color:  #000000;\n",
       "        }    #T_019b8adc_7f40_11ea_8bdf_0242ac1c0002row12_col7 {\n",
       "            background-color:  #d8dce2;\n",
       "            color:  #000000;\n",
       "        }    #T_019b8adc_7f40_11ea_8bdf_0242ac1c0002row12_col8 {\n",
       "            background-color:  #dfdbd9;\n",
       "            color:  #000000;\n",
       "        }    #T_019b8adc_7f40_11ea_8bdf_0242ac1c0002row12_col9 {\n",
       "            background-color:  #e46e56;\n",
       "            color:  #000000;\n",
       "        }    #T_019b8adc_7f40_11ea_8bdf_0242ac1c0002row12_col10 {\n",
       "            background-color:  #e0dbd8;\n",
       "            color:  #000000;\n",
       "        }    #T_019b8adc_7f40_11ea_8bdf_0242ac1c0002row12_col11 {\n",
       "            background-color:  #4358cb;\n",
       "            color:  #f1f1f1;\n",
       "        }    #T_019b8adc_7f40_11ea_8bdf_0242ac1c0002row12_col12 {\n",
       "            background-color:  #b40426;\n",
       "            color:  #f1f1f1;\n",
       "        }</style><table id=\"T_019b8adc_7f40_11ea_8bdf_0242ac1c0002\" ><thead>    <tr>        <th class=\"blank level0\" ></th>        <th class=\"col_heading level0 col0\" >SP500(t-2)</th>        <th class=\"col_heading level0 col1\" >NASDAQ(t-2)</th>        <th class=\"col_heading level0 col2\" >LIBOR3M(t-2)</th>        <th class=\"col_heading level0 col3\" >VIX(t-2)</th>        <th class=\"col_heading level0 col4\" >HPI(t-2)</th>        <th class=\"col_heading level0 col5\" >CDS5Y(t-2)</th>        <th class=\"col_heading level0 col6\" >SP500(t-1)</th>        <th class=\"col_heading level0 col7\" >NASDAQ(t-1)</th>        <th class=\"col_heading level0 col8\" >LIBOR3M(t-1)</th>        <th class=\"col_heading level0 col9\" >VIX(t-1)</th>        <th class=\"col_heading level0 col10\" >HPI(t-1)</th>        <th class=\"col_heading level0 col11\" >CDS5Y(t-1)</th>        <th class=\"col_heading level0 col12\" >VIX(t)</th>    </tr></thead><tbody>\n",
       "                <tr>\n",
       "                        <th id=\"T_019b8adc_7f40_11ea_8bdf_0242ac1c0002level0_row0\" class=\"row_heading level0 row0\" >SP500(t-2)</th>\n",
       "                        <td id=\"T_019b8adc_7f40_11ea_8bdf_0242ac1c0002row0_col0\" class=\"data row0 col0\" >1.000000</td>\n",
       "                        <td id=\"T_019b8adc_7f40_11ea_8bdf_0242ac1c0002row0_col1\" class=\"data row0 col1\" >0.984609</td>\n",
       "                        <td id=\"T_019b8adc_7f40_11ea_8bdf_0242ac1c0002row0_col2\" class=\"data row0 col2\" >-0.924007</td>\n",
       "                        <td id=\"T_019b8adc_7f40_11ea_8bdf_0242ac1c0002row0_col3\" class=\"data row0 col3\" >-0.012684</td>\n",
       "                        <td id=\"T_019b8adc_7f40_11ea_8bdf_0242ac1c0002row0_col4\" class=\"data row0 col4\" >-0.951782</td>\n",
       "                        <td id=\"T_019b8adc_7f40_11ea_8bdf_0242ac1c0002row0_col5\" class=\"data row0 col5\" >0.012849</td>\n",
       "                        <td id=\"T_019b8adc_7f40_11ea_8bdf_0242ac1c0002row0_col6\" class=\"data row0 col6\" >0.075079</td>\n",
       "                        <td id=\"T_019b8adc_7f40_11ea_8bdf_0242ac1c0002row0_col7\" class=\"data row0 col7\" >0.028190</td>\n",
       "                        <td id=\"T_019b8adc_7f40_11ea_8bdf_0242ac1c0002row0_col8\" class=\"data row0 col8\" >0.028824</td>\n",
       "                        <td id=\"T_019b8adc_7f40_11ea_8bdf_0242ac1c0002row0_col9\" class=\"data row0 col9\" >-0.015911</td>\n",
       "                        <td id=\"T_019b8adc_7f40_11ea_8bdf_0242ac1c0002row0_col10\" class=\"data row0 col10\" >0.007815</td>\n",
       "                        <td id=\"T_019b8adc_7f40_11ea_8bdf_0242ac1c0002row0_col11\" class=\"data row0 col11\" >0.012844</td>\n",
       "                        <td id=\"T_019b8adc_7f40_11ea_8bdf_0242ac1c0002row0_col12\" class=\"data row0 col12\" >-0.028254</td>\n",
       "            </tr>\n",
       "            <tr>\n",
       "                        <th id=\"T_019b8adc_7f40_11ea_8bdf_0242ac1c0002level0_row1\" class=\"row_heading level0 row1\" >NASDAQ(t-2)</th>\n",
       "                        <td id=\"T_019b8adc_7f40_11ea_8bdf_0242ac1c0002row1_col0\" class=\"data row1 col0\" >0.984609</td>\n",
       "                        <td id=\"T_019b8adc_7f40_11ea_8bdf_0242ac1c0002row1_col1\" class=\"data row1 col1\" >1.000000</td>\n",
       "                        <td id=\"T_019b8adc_7f40_11ea_8bdf_0242ac1c0002row1_col2\" class=\"data row1 col2\" >-0.975687</td>\n",
       "                        <td id=\"T_019b8adc_7f40_11ea_8bdf_0242ac1c0002row1_col3\" class=\"data row1 col3\" >-0.023536</td>\n",
       "                        <td id=\"T_019b8adc_7f40_11ea_8bdf_0242ac1c0002row1_col4\" class=\"data row1 col4\" >-0.990487</td>\n",
       "                        <td id=\"T_019b8adc_7f40_11ea_8bdf_0242ac1c0002row1_col5\" class=\"data row1 col5\" >-0.000780</td>\n",
       "                        <td id=\"T_019b8adc_7f40_11ea_8bdf_0242ac1c0002row1_col6\" class=\"data row1 col6\" >0.027720</td>\n",
       "                        <td id=\"T_019b8adc_7f40_11ea_8bdf_0242ac1c0002row1_col7\" class=\"data row1 col7\" >0.008985</td>\n",
       "                        <td id=\"T_019b8adc_7f40_11ea_8bdf_0242ac1c0002row1_col8\" class=\"data row1 col8\" >0.013518</td>\n",
       "                        <td id=\"T_019b8adc_7f40_11ea_8bdf_0242ac1c0002row1_col9\" class=\"data row1 col9\" >-0.027940</td>\n",
       "                        <td id=\"T_019b8adc_7f40_11ea_8bdf_0242ac1c0002row1_col10\" class=\"data row1 col10\" >0.005321</td>\n",
       "                        <td id=\"T_019b8adc_7f40_11ea_8bdf_0242ac1c0002row1_col11\" class=\"data row1 col11\" >-0.000841</td>\n",
       "                        <td id=\"T_019b8adc_7f40_11ea_8bdf_0242ac1c0002row1_col12\" class=\"data row1 col12\" >-0.041776</td>\n",
       "            </tr>\n",
       "            <tr>\n",
       "                        <th id=\"T_019b8adc_7f40_11ea_8bdf_0242ac1c0002level0_row2\" class=\"row_heading level0 row2\" >LIBOR3M(t-2)</th>\n",
       "                        <td id=\"T_019b8adc_7f40_11ea_8bdf_0242ac1c0002row2_col0\" class=\"data row2 col0\" >-0.924007</td>\n",
       "                        <td id=\"T_019b8adc_7f40_11ea_8bdf_0242ac1c0002row2_col1\" class=\"data row2 col1\" >-0.975687</td>\n",
       "                        <td id=\"T_019b8adc_7f40_11ea_8bdf_0242ac1c0002row2_col2\" class=\"data row2 col2\" >1.000000</td>\n",
       "                        <td id=\"T_019b8adc_7f40_11ea_8bdf_0242ac1c0002row2_col3\" class=\"data row2 col3\" >0.026158</td>\n",
       "                        <td id=\"T_019b8adc_7f40_11ea_8bdf_0242ac1c0002row2_col4\" class=\"data row2 col4\" >0.994760</td>\n",
       "                        <td id=\"T_019b8adc_7f40_11ea_8bdf_0242ac1c0002row2_col5\" class=\"data row2 col5\" >0.017260</td>\n",
       "                        <td id=\"T_019b8adc_7f40_11ea_8bdf_0242ac1c0002row2_col6\" class=\"data row2 col6\" >0.027169</td>\n",
       "                        <td id=\"T_019b8adc_7f40_11ea_8bdf_0242ac1c0002row2_col7\" class=\"data row2 col7\" >0.011670</td>\n",
       "                        <td id=\"T_019b8adc_7f40_11ea_8bdf_0242ac1c0002row2_col8\" class=\"data row2 col8\" >0.011387</td>\n",
       "                        <td id=\"T_019b8adc_7f40_11ea_8bdf_0242ac1c0002row2_col9\" class=\"data row2 col9\" >0.030484</td>\n",
       "                        <td id=\"T_019b8adc_7f40_11ea_8bdf_0242ac1c0002row2_col10\" class=\"data row2 col10\" >0.000231</td>\n",
       "                        <td id=\"T_019b8adc_7f40_11ea_8bdf_0242ac1c0002row2_col11\" class=\"data row2 col11\" >0.016853</td>\n",
       "                        <td id=\"T_019b8adc_7f40_11ea_8bdf_0242ac1c0002row2_col12\" class=\"data row2 col12\" >0.044896</td>\n",
       "            </tr>\n",
       "            <tr>\n",
       "                        <th id=\"T_019b8adc_7f40_11ea_8bdf_0242ac1c0002level0_row3\" class=\"row_heading level0 row3\" >VIX(t-2)</th>\n",
       "                        <td id=\"T_019b8adc_7f40_11ea_8bdf_0242ac1c0002row3_col0\" class=\"data row3 col0\" >-0.012684</td>\n",
       "                        <td id=\"T_019b8adc_7f40_11ea_8bdf_0242ac1c0002row3_col1\" class=\"data row3 col1\" >-0.023536</td>\n",
       "                        <td id=\"T_019b8adc_7f40_11ea_8bdf_0242ac1c0002row3_col2\" class=\"data row3 col2\" >0.026158</td>\n",
       "                        <td id=\"T_019b8adc_7f40_11ea_8bdf_0242ac1c0002row3_col3\" class=\"data row3 col3\" >1.000000</td>\n",
       "                        <td id=\"T_019b8adc_7f40_11ea_8bdf_0242ac1c0002row3_col4\" class=\"data row3 col4\" >0.026033</td>\n",
       "                        <td id=\"T_019b8adc_7f40_11ea_8bdf_0242ac1c0002row3_col5\" class=\"data row3 col5\" >-0.096548</td>\n",
       "                        <td id=\"T_019b8adc_7f40_11ea_8bdf_0242ac1c0002row3_col6\" class=\"data row3 col6\" >-0.026130</td>\n",
       "                        <td id=\"T_019b8adc_7f40_11ea_8bdf_0242ac1c0002row3_col7\" class=\"data row3 col7\" >-0.035600</td>\n",
       "                        <td id=\"T_019b8adc_7f40_11ea_8bdf_0242ac1c0002row3_col8\" class=\"data row3 col8\" >0.035045</td>\n",
       "                        <td id=\"T_019b8adc_7f40_11ea_8bdf_0242ac1c0002row3_col9\" class=\"data row3 col9\" >0.833441</td>\n",
       "                        <td id=\"T_019b8adc_7f40_11ea_8bdf_0242ac1c0002row3_col10\" class=\"data row3 col10\" >0.037066</td>\n",
       "                        <td id=\"T_019b8adc_7f40_11ea_8bdf_0242ac1c0002row3_col11\" class=\"data row3 col11\" >-0.068236</td>\n",
       "                        <td id=\"T_019b8adc_7f40_11ea_8bdf_0242ac1c0002row3_col12\" class=\"data row3 col12\" >0.687900</td>\n",
       "            </tr>\n",
       "            <tr>\n",
       "                        <th id=\"T_019b8adc_7f40_11ea_8bdf_0242ac1c0002level0_row4\" class=\"row_heading level0 row4\" >HPI(t-2)</th>\n",
       "                        <td id=\"T_019b8adc_7f40_11ea_8bdf_0242ac1c0002row4_col0\" class=\"data row4 col0\" >-0.951782</td>\n",
       "                        <td id=\"T_019b8adc_7f40_11ea_8bdf_0242ac1c0002row4_col1\" class=\"data row4 col1\" >-0.990487</td>\n",
       "                        <td id=\"T_019b8adc_7f40_11ea_8bdf_0242ac1c0002row4_col2\" class=\"data row4 col2\" >0.994760</td>\n",
       "                        <td id=\"T_019b8adc_7f40_11ea_8bdf_0242ac1c0002row4_col3\" class=\"data row4 col3\" >0.026033</td>\n",
       "                        <td id=\"T_019b8adc_7f40_11ea_8bdf_0242ac1c0002row4_col4\" class=\"data row4 col4\" >1.000000</td>\n",
       "                        <td id=\"T_019b8adc_7f40_11ea_8bdf_0242ac1c0002row4_col5\" class=\"data row4 col5\" >0.010825</td>\n",
       "                        <td id=\"T_019b8adc_7f40_11ea_8bdf_0242ac1c0002row4_col6\" class=\"data row4 col6\" >0.007838</td>\n",
       "                        <td id=\"T_019b8adc_7f40_11ea_8bdf_0242ac1c0002row4_col7\" class=\"data row4 col7\" >0.005373</td>\n",
       "                        <td id=\"T_019b8adc_7f40_11ea_8bdf_0242ac1c0002row4_col8\" class=\"data row4 col8\" >-0.001849</td>\n",
       "                        <td id=\"T_019b8adc_7f40_11ea_8bdf_0242ac1c0002row4_col9\" class=\"data row4 col9\" >0.031400</td>\n",
       "                        <td id=\"T_019b8adc_7f40_11ea_8bdf_0242ac1c0002row4_col10\" class=\"data row4 col10\" >-0.002829</td>\n",
       "                        <td id=\"T_019b8adc_7f40_11ea_8bdf_0242ac1c0002row4_col11\" class=\"data row4 col11\" >0.010876</td>\n",
       "                        <td id=\"T_019b8adc_7f40_11ea_8bdf_0242ac1c0002row4_col12\" class=\"data row4 col12\" >0.046436</td>\n",
       "            </tr>\n",
       "            <tr>\n",
       "                        <th id=\"T_019b8adc_7f40_11ea_8bdf_0242ac1c0002level0_row5\" class=\"row_heading level0 row5\" >CDS5Y(t-2)</th>\n",
       "                        <td id=\"T_019b8adc_7f40_11ea_8bdf_0242ac1c0002row5_col0\" class=\"data row5 col0\" >0.012849</td>\n",
       "                        <td id=\"T_019b8adc_7f40_11ea_8bdf_0242ac1c0002row5_col1\" class=\"data row5 col1\" >-0.000780</td>\n",
       "                        <td id=\"T_019b8adc_7f40_11ea_8bdf_0242ac1c0002row5_col2\" class=\"data row5 col2\" >0.017260</td>\n",
       "                        <td id=\"T_019b8adc_7f40_11ea_8bdf_0242ac1c0002row5_col3\" class=\"data row5 col3\" >-0.096548</td>\n",
       "                        <td id=\"T_019b8adc_7f40_11ea_8bdf_0242ac1c0002row5_col4\" class=\"data row5 col4\" >0.010825</td>\n",
       "                        <td id=\"T_019b8adc_7f40_11ea_8bdf_0242ac1c0002row5_col5\" class=\"data row5 col5\" >1.000000</td>\n",
       "                        <td id=\"T_019b8adc_7f40_11ea_8bdf_0242ac1c0002row5_col6\" class=\"data row5 col6\" >0.012909</td>\n",
       "                        <td id=\"T_019b8adc_7f40_11ea_8bdf_0242ac1c0002row5_col7\" class=\"data row5 col7\" >-0.000803</td>\n",
       "                        <td id=\"T_019b8adc_7f40_11ea_8bdf_0242ac1c0002row5_col8\" class=\"data row5 col8\" >0.017098</td>\n",
       "                        <td id=\"T_019b8adc_7f40_11ea_8bdf_0242ac1c0002row5_col9\" class=\"data row5 col9\" >-0.065148</td>\n",
       "                        <td id=\"T_019b8adc_7f40_11ea_8bdf_0242ac1c0002row5_col10\" class=\"data row5 col10\" >0.010823</td>\n",
       "                        <td id=\"T_019b8adc_7f40_11ea_8bdf_0242ac1c0002row5_col11\" class=\"data row5 col11\" >0.018272</td>\n",
       "                        <td id=\"T_019b8adc_7f40_11ea_8bdf_0242ac1c0002row5_col12\" class=\"data row5 col12\" >-0.020133</td>\n",
       "            </tr>\n",
       "            <tr>\n",
       "                        <th id=\"T_019b8adc_7f40_11ea_8bdf_0242ac1c0002level0_row6\" class=\"row_heading level0 row6\" >SP500(t-1)</th>\n",
       "                        <td id=\"T_019b8adc_7f40_11ea_8bdf_0242ac1c0002row6_col0\" class=\"data row6 col0\" >0.075079</td>\n",
       "                        <td id=\"T_019b8adc_7f40_11ea_8bdf_0242ac1c0002row6_col1\" class=\"data row6 col1\" >0.027720</td>\n",
       "                        <td id=\"T_019b8adc_7f40_11ea_8bdf_0242ac1c0002row6_col2\" class=\"data row6 col2\" >0.027169</td>\n",
       "                        <td id=\"T_019b8adc_7f40_11ea_8bdf_0242ac1c0002row6_col3\" class=\"data row6 col3\" >-0.026130</td>\n",
       "                        <td id=\"T_019b8adc_7f40_11ea_8bdf_0242ac1c0002row6_col4\" class=\"data row6 col4\" >0.007838</td>\n",
       "                        <td id=\"T_019b8adc_7f40_11ea_8bdf_0242ac1c0002row6_col5\" class=\"data row6 col5\" >0.012909</td>\n",
       "                        <td id=\"T_019b8adc_7f40_11ea_8bdf_0242ac1c0002row6_col6\" class=\"data row6 col6\" >1.000000</td>\n",
       "                        <td id=\"T_019b8adc_7f40_11ea_8bdf_0242ac1c0002row6_col7\" class=\"data row6 col7\" >0.984601</td>\n",
       "                        <td id=\"T_019b8adc_7f40_11ea_8bdf_0242ac1c0002row6_col8\" class=\"data row6 col8\" >-0.923932</td>\n",
       "                        <td id=\"T_019b8adc_7f40_11ea_8bdf_0242ac1c0002row6_col9\" class=\"data row6 col9\" >-0.013308</td>\n",
       "                        <td id=\"T_019b8adc_7f40_11ea_8bdf_0242ac1c0002row6_col10\" class=\"data row6 col10\" >-0.951757</td>\n",
       "                        <td id=\"T_019b8adc_7f40_11ea_8bdf_0242ac1c0002row6_col11\" class=\"data row6 col11\" >0.012902</td>\n",
       "                        <td id=\"T_019b8adc_7f40_11ea_8bdf_0242ac1c0002row6_col12\" class=\"data row6 col12\" >-0.016880</td>\n",
       "            </tr>\n",
       "            <tr>\n",
       "                        <th id=\"T_019b8adc_7f40_11ea_8bdf_0242ac1c0002level0_row7\" class=\"row_heading level0 row7\" >NASDAQ(t-1)</th>\n",
       "                        <td id=\"T_019b8adc_7f40_11ea_8bdf_0242ac1c0002row7_col0\" class=\"data row7 col0\" >0.028190</td>\n",
       "                        <td id=\"T_019b8adc_7f40_11ea_8bdf_0242ac1c0002row7_col1\" class=\"data row7 col1\" >0.008985</td>\n",
       "                        <td id=\"T_019b8adc_7f40_11ea_8bdf_0242ac1c0002row7_col2\" class=\"data row7 col2\" >0.011670</td>\n",
       "                        <td id=\"T_019b8adc_7f40_11ea_8bdf_0242ac1c0002row7_col3\" class=\"data row7 col3\" >-0.035600</td>\n",
       "                        <td id=\"T_019b8adc_7f40_11ea_8bdf_0242ac1c0002row7_col4\" class=\"data row7 col4\" >0.005373</td>\n",
       "                        <td id=\"T_019b8adc_7f40_11ea_8bdf_0242ac1c0002row7_col5\" class=\"data row7 col5\" >-0.000803</td>\n",
       "                        <td id=\"T_019b8adc_7f40_11ea_8bdf_0242ac1c0002row7_col6\" class=\"data row7 col6\" >0.984601</td>\n",
       "                        <td id=\"T_019b8adc_7f40_11ea_8bdf_0242ac1c0002row7_col7\" class=\"data row7 col7\" >1.000000</td>\n",
       "                        <td id=\"T_019b8adc_7f40_11ea_8bdf_0242ac1c0002row7_col8\" class=\"data row7 col8\" >-0.975656</td>\n",
       "                        <td id=\"T_019b8adc_7f40_11ea_8bdf_0242ac1c0002row7_col9\" class=\"data row7 col9\" >-0.023658</td>\n",
       "                        <td id=\"T_019b8adc_7f40_11ea_8bdf_0242ac1c0002row7_col10\" class=\"data row7 col10\" >-0.990482</td>\n",
       "                        <td id=\"T_019b8adc_7f40_11ea_8bdf_0242ac1c0002row7_col11\" class=\"data row7 col11\" >-0.000785</td>\n",
       "                        <td id=\"T_019b8adc_7f40_11ea_8bdf_0242ac1c0002row7_col12\" class=\"data row7 col12\" >-0.028078</td>\n",
       "            </tr>\n",
       "            <tr>\n",
       "                        <th id=\"T_019b8adc_7f40_11ea_8bdf_0242ac1c0002level0_row8\" class=\"row_heading level0 row8\" >LIBOR3M(t-1)</th>\n",
       "                        <td id=\"T_019b8adc_7f40_11ea_8bdf_0242ac1c0002row8_col0\" class=\"data row8 col0\" >0.028824</td>\n",
       "                        <td id=\"T_019b8adc_7f40_11ea_8bdf_0242ac1c0002row8_col1\" class=\"data row8 col1\" >0.013518</td>\n",
       "                        <td id=\"T_019b8adc_7f40_11ea_8bdf_0242ac1c0002row8_col2\" class=\"data row8 col2\" >0.011387</td>\n",
       "                        <td id=\"T_019b8adc_7f40_11ea_8bdf_0242ac1c0002row8_col3\" class=\"data row8 col3\" >0.035045</td>\n",
       "                        <td id=\"T_019b8adc_7f40_11ea_8bdf_0242ac1c0002row8_col4\" class=\"data row8 col4\" >-0.001849</td>\n",
       "                        <td id=\"T_019b8adc_7f40_11ea_8bdf_0242ac1c0002row8_col5\" class=\"data row8 col5\" >0.017098</td>\n",
       "                        <td id=\"T_019b8adc_7f40_11ea_8bdf_0242ac1c0002row8_col6\" class=\"data row8 col6\" >-0.923932</td>\n",
       "                        <td id=\"T_019b8adc_7f40_11ea_8bdf_0242ac1c0002row8_col7\" class=\"data row8 col7\" >-0.975656</td>\n",
       "                        <td id=\"T_019b8adc_7f40_11ea_8bdf_0242ac1c0002row8_col8\" class=\"data row8 col8\" >1.000000</td>\n",
       "                        <td id=\"T_019b8adc_7f40_11ea_8bdf_0242ac1c0002row8_col9\" class=\"data row8 col9\" >0.025894</td>\n",
       "                        <td id=\"T_019b8adc_7f40_11ea_8bdf_0242ac1c0002row8_col10\" class=\"data row8 col10\" >0.994751</td>\n",
       "                        <td id=\"T_019b8adc_7f40_11ea_8bdf_0242ac1c0002row8_col11\" class=\"data row8 col11\" >0.017325</td>\n",
       "                        <td id=\"T_019b8adc_7f40_11ea_8bdf_0242ac1c0002row8_col12\" class=\"data row8 col12\" >0.029765</td>\n",
       "            </tr>\n",
       "            <tr>\n",
       "                        <th id=\"T_019b8adc_7f40_11ea_8bdf_0242ac1c0002level0_row9\" class=\"row_heading level0 row9\" >VIX(t-1)</th>\n",
       "                        <td id=\"T_019b8adc_7f40_11ea_8bdf_0242ac1c0002row9_col0\" class=\"data row9 col0\" >-0.015911</td>\n",
       "                        <td id=\"T_019b8adc_7f40_11ea_8bdf_0242ac1c0002row9_col1\" class=\"data row9 col1\" >-0.027940</td>\n",
       "                        <td id=\"T_019b8adc_7f40_11ea_8bdf_0242ac1c0002row9_col2\" class=\"data row9 col2\" >0.030484</td>\n",
       "                        <td id=\"T_019b8adc_7f40_11ea_8bdf_0242ac1c0002row9_col3\" class=\"data row9 col3\" >0.833441</td>\n",
       "                        <td id=\"T_019b8adc_7f40_11ea_8bdf_0242ac1c0002row9_col4\" class=\"data row9 col4\" >0.031400</td>\n",
       "                        <td id=\"T_019b8adc_7f40_11ea_8bdf_0242ac1c0002row9_col5\" class=\"data row9 col5\" >-0.065148</td>\n",
       "                        <td id=\"T_019b8adc_7f40_11ea_8bdf_0242ac1c0002row9_col6\" class=\"data row9 col6\" >-0.013308</td>\n",
       "                        <td id=\"T_019b8adc_7f40_11ea_8bdf_0242ac1c0002row9_col7\" class=\"data row9 col7\" >-0.023658</td>\n",
       "                        <td id=\"T_019b8adc_7f40_11ea_8bdf_0242ac1c0002row9_col8\" class=\"data row9 col8\" >0.025894</td>\n",
       "                        <td id=\"T_019b8adc_7f40_11ea_8bdf_0242ac1c0002row9_col9\" class=\"data row9 col9\" >1.000000</td>\n",
       "                        <td id=\"T_019b8adc_7f40_11ea_8bdf_0242ac1c0002row9_col10\" class=\"data row9 col10\" >0.025775</td>\n",
       "                        <td id=\"T_019b8adc_7f40_11ea_8bdf_0242ac1c0002row9_col11\" class=\"data row9 col11\" >-0.096479</td>\n",
       "                        <td id=\"T_019b8adc_7f40_11ea_8bdf_0242ac1c0002row9_col12\" class=\"data row9 col12\" >0.829049</td>\n",
       "            </tr>\n",
       "            <tr>\n",
       "                        <th id=\"T_019b8adc_7f40_11ea_8bdf_0242ac1c0002level0_row10\" class=\"row_heading level0 row10\" >HPI(t-1)</th>\n",
       "                        <td id=\"T_019b8adc_7f40_11ea_8bdf_0242ac1c0002row10_col0\" class=\"data row10 col0\" >0.007815</td>\n",
       "                        <td id=\"T_019b8adc_7f40_11ea_8bdf_0242ac1c0002row10_col1\" class=\"data row10 col1\" >0.005321</td>\n",
       "                        <td id=\"T_019b8adc_7f40_11ea_8bdf_0242ac1c0002row10_col2\" class=\"data row10 col2\" >0.000231</td>\n",
       "                        <td id=\"T_019b8adc_7f40_11ea_8bdf_0242ac1c0002row10_col3\" class=\"data row10 col3\" >0.037066</td>\n",
       "                        <td id=\"T_019b8adc_7f40_11ea_8bdf_0242ac1c0002row10_col4\" class=\"data row10 col4\" >-0.002829</td>\n",
       "                        <td id=\"T_019b8adc_7f40_11ea_8bdf_0242ac1c0002row10_col5\" class=\"data row10 col5\" >0.010823</td>\n",
       "                        <td id=\"T_019b8adc_7f40_11ea_8bdf_0242ac1c0002row10_col6\" class=\"data row10 col6\" >-0.951757</td>\n",
       "                        <td id=\"T_019b8adc_7f40_11ea_8bdf_0242ac1c0002row10_col7\" class=\"data row10 col7\" >-0.990482</td>\n",
       "                        <td id=\"T_019b8adc_7f40_11ea_8bdf_0242ac1c0002row10_col8\" class=\"data row10 col8\" >0.994751</td>\n",
       "                        <td id=\"T_019b8adc_7f40_11ea_8bdf_0242ac1c0002row10_col9\" class=\"data row10 col9\" >0.025775</td>\n",
       "                        <td id=\"T_019b8adc_7f40_11ea_8bdf_0242ac1c0002row10_col10\" class=\"data row10 col10\" >1.000000</td>\n",
       "                        <td id=\"T_019b8adc_7f40_11ea_8bdf_0242ac1c0002row10_col11\" class=\"data row10 col11\" >0.010871</td>\n",
       "                        <td id=\"T_019b8adc_7f40_11ea_8bdf_0242ac1c0002row10_col12\" class=\"data row10 col12\" >0.030921</td>\n",
       "            </tr>\n",
       "            <tr>\n",
       "                        <th id=\"T_019b8adc_7f40_11ea_8bdf_0242ac1c0002level0_row11\" class=\"row_heading level0 row11\" >CDS5Y(t-1)</th>\n",
       "                        <td id=\"T_019b8adc_7f40_11ea_8bdf_0242ac1c0002row11_col0\" class=\"data row11 col0\" >0.012844</td>\n",
       "                        <td id=\"T_019b8adc_7f40_11ea_8bdf_0242ac1c0002row11_col1\" class=\"data row11 col1\" >-0.000841</td>\n",
       "                        <td id=\"T_019b8adc_7f40_11ea_8bdf_0242ac1c0002row11_col2\" class=\"data row11 col2\" >0.016853</td>\n",
       "                        <td id=\"T_019b8adc_7f40_11ea_8bdf_0242ac1c0002row11_col3\" class=\"data row11 col3\" >-0.068236</td>\n",
       "                        <td id=\"T_019b8adc_7f40_11ea_8bdf_0242ac1c0002row11_col4\" class=\"data row11 col4\" >0.010876</td>\n",
       "                        <td id=\"T_019b8adc_7f40_11ea_8bdf_0242ac1c0002row11_col5\" class=\"data row11 col5\" >0.018272</td>\n",
       "                        <td id=\"T_019b8adc_7f40_11ea_8bdf_0242ac1c0002row11_col6\" class=\"data row11 col6\" >0.012902</td>\n",
       "                        <td id=\"T_019b8adc_7f40_11ea_8bdf_0242ac1c0002row11_col7\" class=\"data row11 col7\" >-0.000785</td>\n",
       "                        <td id=\"T_019b8adc_7f40_11ea_8bdf_0242ac1c0002row11_col8\" class=\"data row11 col8\" >0.017325</td>\n",
       "                        <td id=\"T_019b8adc_7f40_11ea_8bdf_0242ac1c0002row11_col9\" class=\"data row11 col9\" >-0.096479</td>\n",
       "                        <td id=\"T_019b8adc_7f40_11ea_8bdf_0242ac1c0002row11_col10\" class=\"data row11 col10\" >0.010871</td>\n",
       "                        <td id=\"T_019b8adc_7f40_11ea_8bdf_0242ac1c0002row11_col11\" class=\"data row11 col11\" >1.000000</td>\n",
       "                        <td id=\"T_019b8adc_7f40_11ea_8bdf_0242ac1c0002row11_col12\" class=\"data row11 col12\" >-0.064941</td>\n",
       "            </tr>\n",
       "            <tr>\n",
       "                        <th id=\"T_019b8adc_7f40_11ea_8bdf_0242ac1c0002level0_row12\" class=\"row_heading level0 row12\" >VIX(t)</th>\n",
       "                        <td id=\"T_019b8adc_7f40_11ea_8bdf_0242ac1c0002row12_col0\" class=\"data row12 col0\" >-0.028254</td>\n",
       "                        <td id=\"T_019b8adc_7f40_11ea_8bdf_0242ac1c0002row12_col1\" class=\"data row12 col1\" >-0.041776</td>\n",
       "                        <td id=\"T_019b8adc_7f40_11ea_8bdf_0242ac1c0002row12_col2\" class=\"data row12 col2\" >0.044896</td>\n",
       "                        <td id=\"T_019b8adc_7f40_11ea_8bdf_0242ac1c0002row12_col3\" class=\"data row12 col3\" >0.687900</td>\n",
       "                        <td id=\"T_019b8adc_7f40_11ea_8bdf_0242ac1c0002row12_col4\" class=\"data row12 col4\" >0.046436</td>\n",
       "                        <td id=\"T_019b8adc_7f40_11ea_8bdf_0242ac1c0002row12_col5\" class=\"data row12 col5\" >-0.020133</td>\n",
       "                        <td id=\"T_019b8adc_7f40_11ea_8bdf_0242ac1c0002row12_col6\" class=\"data row12 col6\" >-0.016880</td>\n",
       "                        <td id=\"T_019b8adc_7f40_11ea_8bdf_0242ac1c0002row12_col7\" class=\"data row12 col7\" >-0.028078</td>\n",
       "                        <td id=\"T_019b8adc_7f40_11ea_8bdf_0242ac1c0002row12_col8\" class=\"data row12 col8\" >0.029765</td>\n",
       "                        <td id=\"T_019b8adc_7f40_11ea_8bdf_0242ac1c0002row12_col9\" class=\"data row12 col9\" >0.829049</td>\n",
       "                        <td id=\"T_019b8adc_7f40_11ea_8bdf_0242ac1c0002row12_col10\" class=\"data row12 col10\" >0.030921</td>\n",
       "                        <td id=\"T_019b8adc_7f40_11ea_8bdf_0242ac1c0002row12_col11\" class=\"data row12 col11\" >-0.064941</td>\n",
       "                        <td id=\"T_019b8adc_7f40_11ea_8bdf_0242ac1c0002row12_col12\" class=\"data row12 col12\" >1.000000</td>\n",
       "            </tr>\n",
       "    </tbody></table>"
      ],
      "text/plain": [
       "<pandas.io.formats.style.Styler at 0x7f45809c4a20>"
      ]
     },
     "execution_count": 24,
     "metadata": {
      "tags": []
     },
     "output_type": "execute_result"
    }
   ],
   "source": [
    "random_state = np.random.RandomState(0)\n",
    "corr = hist_data_supervised.corr()\n",
    "corr.style.background_gradient(cmap='coolwarm')"
   ]
  },
  {
   "cell_type": "code",
   "execution_count": null,
   "metadata": {
    "colab": {
     "base_uri": "https://localhost:8080/",
     "height": 34
    },
    "colab_type": "code",
    "id": "1F7MkPxAZi83",
    "outputId": "d5d9ff5b-d0aa-4a72-b151-e436928f8eac"
   },
   "outputs": [
    {
     "data": {
      "text/plain": [
       "(348, 13)"
      ]
     },
     "execution_count": 25,
     "metadata": {
      "tags": []
     },
     "output_type": "execute_result"
    }
   ],
   "source": [
    "hist_data_supervised.shape"
   ]
  },
  {
   "cell_type": "code",
   "execution_count": null,
   "metadata": {
    "colab": {
     "base_uri": "https://localhost:8080/",
     "height": 34
    },
    "colab_type": "code",
    "id": "FyC_JSKxxzNl",
    "outputId": "ff502454-3cb0-4ec3-9077-8a82d315462b"
   },
   "outputs": [
    {
     "data": {
      "text/plain": [
       "(348, 13)"
      ]
     },
     "execution_count": 26,
     "metadata": {
      "tags": []
     },
     "output_type": "execute_result"
    }
   ],
   "source": [
    "scaler = MinMaxScaler(feature_range=(0,1))\n",
    "scaled = scaler.fit_transform(hist_data_supervised)\n",
    "scaled.shape"
   ]
  },
  {
   "cell_type": "code",
   "execution_count": null,
   "metadata": {
    "colab": {
     "base_uri": "https://localhost:8080/",
     "height": 51
    },
    "colab_type": "code",
    "id": "dQs5W4vZ9hje",
    "outputId": "50eb2aa4-8726-4733-9e52-db0c6036aadc"
   },
   "outputs": [
    {
     "name": "stdout",
     "output_type": "stream",
     "text": [
      "Training: X - (313, 1, 12) y - (313,)\n",
      "Testing: X - (35, 1, 12) y - (35,)\n"
     ]
    }
   ],
   "source": [
    "from sklearn.model_selection import train_test_split\n",
    "# First, we must split the prepared dataset into train and test sets\n",
    "scaled = pd.DataFrame(scaled)\n",
    "values = scaled.values\n",
    "\n",
    "x = values[:, :-1]\n",
    "y = values[:, -1]\n",
    "\n",
    "# split into input and outputs\n",
    "train_X, test_X, train_y, test_y = train_test_split(x, y, test_size=0.1, random_state=42)\n",
    "\n",
    "# the inputs (X) are reshaped into the 3D format expected by LSTMs, namely [samples, timesteps, features].\n",
    "train_X = train_X.reshape((train_X.shape[0], 1, train_X.shape[1]))\n",
    "test_X = test_X.reshape((test_X.shape[0], 1, test_X.shape[1]))\n",
    "print(\"Training: X - \" + str(train_X.shape) + \" y - \" +  str(train_y.shape))\n",
    "print(\"Testing: X - \" + str(test_X.shape) + \" y - \" + str(test_y.shape))"
   ]
  },
  {
   "cell_type": "markdown",
   "metadata": {
    "colab_type": "text",
    "id": "tKvt9AldPROO"
   },
   "source": [
    "We will use the Mean Absolute Error (MAE) loss function and the efficient Adam version of stochastic gradient descent.\n",
    "\n",
    "Remember that the internal state of the LSTM in Keras is reset at the end of each batch.\n",
    "\n",
    "Finally, we keep track of both the training and test loss during training by setting the validation_data argument in the fit() function. At the end of the run both the training and test loss are plotted."
   ]
  },
  {
   "cell_type": "code",
   "execution_count": null,
   "metadata": {
    "colab": {},
    "colab_type": "code",
    "id": "6hW3vLiGiV-b"
   },
   "outputs": [],
   "source": [
    "import os\n",
    "folder_name = 'projects'\n",
    "if not os.path.isdir(folder_name):\n",
    "  os.makedirs(folder_name)"
   ]
  },
  {
   "cell_type": "code",
   "execution_count": null,
   "metadata": {
    "colab": {},
    "colab_type": "code",
    "id": "89Y0SVQ7P5bH"
   },
   "outputs": [],
   "source": [
    "from sklearn.metrics import mean_squared_error\n",
    "from keras.models import Sequential\n",
    "from keras.layers import Dense\n",
    "from keras.layers import LSTM\n",
    "from keras.callbacks import ModelCheckpoint, EarlyStopping\n",
    "from keras.optimizers import Adam"
   ]
  },
  {
   "cell_type": "code",
   "execution_count": null,
   "metadata": {
    "colab": {
     "base_uri": "https://localhost:8080/",
     "height": 554
    },
    "colab_type": "code",
    "id": "93Q2eCUnP-ME",
    "outputId": "621442e2-99a8-455d-db80-7889988600cf"
   },
   "outputs": [
    {
     "name": "stdout",
     "output_type": "stream",
     "text": [
      "Model: \"sequential_3\"\n",
      "_________________________________________________________________\n",
      "Layer (type)                 Output Shape              Param #   \n",
      "=================================================================\n",
      "lstm_5 (LSTM)                (None, 1, 50)             12600     \n",
      "_________________________________________________________________\n",
      "lstm_6 (LSTM)                (None, 30)                9720      \n",
      "_________________________________________________________________\n",
      "dense_3 (Dense)              (None, 1)                 31        \n",
      "=================================================================\n",
      "Total params: 22,351\n",
      "Trainable params: 22,351\n",
      "Non-trainable params: 0\n",
      "_________________________________________________________________\n",
      "None\n"
     ]
    },
    {
     "name": "stderr",
     "output_type": "stream",
     "text": [
      "/usr/local/lib/python3.6/dist-packages/keras/callbacks/callbacks.py:707: RuntimeWarning: Can save best model only with val_mean_squared_error available, skipping.\n",
      "  'skipping.' % (self.monitor), RuntimeWarning)\n"
     ]
    },
    {
     "data": {
      "image/png": "[encoded data removed]",
      "text/plain": [
       "<Figure size 432x288 with 1 Axes>"
      ]
     },
     "metadata": {
      "needs_background": "light",
      "tags": []
     },
     "output_type": "display_data"
    }
   ],
   "source": [
    "# design network\n",
    "model = Sequential([\n",
    "                    LSTM(50, return_sequences=True, input_shape=(train_X.shape[1], train_X.shape[2])),\n",
    "                    LSTM(30, return_sequences=False), \n",
    "                    Dense(1)\n",
    "])\n",
    "\n",
    "\n",
    "checkpoint = ModelCheckpoint('./projects/weights.hdf5', monitor='val_mean_squared_error', verbose=0, save_best_only=True, mode='auto')\n",
    "early_stopping = EarlyStopping(monitor='val_loss', min_delta=0, patience=0, verbose=0, mode='auto', baseline=None, restore_best_weights=False)\n",
    "\n",
    "model.compile(loss='mse', optimizer='adam', metrics=['mse'])\n",
    "\n",
    "print(model.summary())\n",
    "# fit network\n",
    "\n",
    "history = model.fit(train_X, train_y, epochs=150, batch_size=1, verbose=0,shuffle=False, validation_data=(test_X, test_y), callbacks=[checkpoint, early_stopping])\n",
    "\n",
    "model.save_weights('./projects/final weights')\n",
    "model.save('./projects/my_model.h5')\n",
    "\n",
    "# plot history\n",
    "plt.plot(history.history['loss'], label='train')\n",
    "plt.plot(history.history['val_loss'], label='test')\n",
    "plt.legend()\n",
    "plt.show()"
   ]
  },
  {
   "cell_type": "markdown",
   "metadata": {
    "colab_type": "text",
    "id": "g7CGbXs-4H7d"
   },
   "source": [
    "##### Evaluate Model\n"
   ]
  },
  {
   "cell_type": "code",
   "execution_count": null,
   "metadata": {
    "colab": {
     "base_uri": "https://localhost:8080/",
     "height": 68
    },
    "colab_type": "code",
    "id": "GEnAvz-CcHDf",
    "outputId": "9aa8330d-f541-4a41-bea5-682354a9f5b6"
   },
   "outputs": [
    {
     "name": "stdout",
     "output_type": "stream",
     "text": [
      "Mean Absolute Error: 0.07526250130385\n",
      "Mean Squared Error: 0.012954613145476303\n",
      "R^2: 0.6385271448721075\n"
     ]
    }
   ],
   "source": [
    "from sklearn.metrics import r2_score, mean_absolute_error, mean_squared_error\n",
    "\n",
    "# get the predicted values and real values\n",
    "predictions = model.predict(test_X)\n",
    "predictions = [score[0] for score in predictions]\n",
    "actual_outputs = test_y\n",
    "\n",
    "\n",
    "# measure\n",
    "r2 = r2_score(test_y, predictions)\n",
    "mean_abs_error = mean_absolute_error(test_y, predictions)\n",
    "mean_squared_e = mean_squared_error(test_y, predictions)\n",
    "\n",
    "print('Mean Absolute Error: ' + str(mean_abs_error))\n",
    "print('Mean Squared Error: ' + str(mean_squared_e))\n",
    "print('R^2: ' + str(r2))"
   ]
  }
 ],
 "metadata": {
  "colab": {
   "collapsed_sections": [
    "zHgTZ65SQKY5"
   ],
   "name": "Quantitative Analyst.ipynb",
   "provenance": []
  },
  "kernelspec": {
   "display_name": "Python 3",
   "language": "python",
   "name": "python3"
  },
  "language_info": {
   "codemirror_mode": {
    "name": "ipython",
    "version": 3
   },
   "file_extension": ".py",
   "mimetype": "text/x-python",
   "name": "python",
   "nbconvert_exporter": "python",
   "pygments_lexer": "ipython3",
   "version": "3.8.1"
  }
 },
 "nbformat": 4,
 "nbformat_minor": 4
}
